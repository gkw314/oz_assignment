{
  "cells": [
    {
      "cell_type": "markdown",
      "metadata": {
        "id": "view-in-github",
        "colab_type": "text"
      },
      "source": [
        "<a href=\"https://colab.research.google.com/github/gkw314/oz_assignment/blob/main/S_Ch03_task.ipynb\" target=\"_parent\"><img src=\"https://colab.research.google.com/assets/colab-badge.svg\" alt=\"Open In Colab\"/></a>"
      ]
    },
    {
      "cell_type": "markdown",
      "metadata": {
        "id": "4eIIJWM9w5nT"
      },
      "source": [
        "<span style=\"font-size:100%\">\n",
        "\n",
        "수업은 모두 열심히 들으셨나요?\n",
        "\n",
        "간혹 강의에서 언급되지 않은 내용이 문제로 나올 수 있습니다.<br>\n",
        "그럴땐 강의 내용 외 문제는 구글링을 통해 해결해주세요<br></span>\n",
        "<span style=\"font-size:80%\">\n",
        "(구글링 또한 개발자가 갖쳐야할 역량 중에 하나랍니다 😊)\n",
        "</span>\n",
        "\n",
        "---"
      ]
    },
    {
      "cell_type": "markdown",
      "metadata": {
        "id": "UPs_kMQDw5nU"
      },
      "source": [
        "<span style=\"font-size:80%\">[문제1]<br><br></span>\n",
        "```주로 작성 중인 코드의 끝을 알리는 기호로 사용되며 파이썬에서 한 줄에 작성된 서로 다른 코드를 구분 지을 때 사용할 수 있는 기호를 골라주세요```\n",
        "\n",
        "1. ' , ' (쉼표)\n",
        "2. ' + ' (더하기 기호)\n",
        "3. ' ; ' (세미콜론)\n",
        "4. ' / ' (슬래시)"
      ]
    },
    {
      "cell_type": "markdown",
      "metadata": {
        "id": "jjoiyZI0w5nV"
      },
      "source": [
        "<span style=\"color:red\">답변</span> :"
      ]
    },
    {
      "cell_type": "markdown",
      "metadata": {
        "id": "WRr6-SMmw5nV"
      },
      "source": [
        "3. 세미콜론"
      ]
    },
    {
      "cell_type": "markdown",
      "metadata": {
        "id": "aLSbOdW-w5nV"
      },
      "source": [
        "----"
      ]
    },
    {
      "cell_type": "markdown",
      "metadata": {
        "id": "vwePBy9iw5nV"
      },
      "source": [
        "<span style=\"font-size:80%\">[문제2]<br><br></span>\n",
        "```Python의 PEP 8은 무엇인지 설명하고 PEP 8의 핵심적인 규칙을 1개 이상을 설명해주세요```"
      ]
    },
    {
      "cell_type": "markdown",
      "metadata": {
        "id": "5A7VozhQw5nW"
      },
      "source": [
        "<span style=\"color:red\">답변</span>"
      ]
    },
    {
      "cell_type": "markdown",
      "metadata": {
        "id": "s3I0azBVw5nW"
      },
      "source": [
        "\"Python Enhancement Proposal 8\"\n",
        "\n",
        "* PEP는 파이썬 개선 제안의 약자로 파이썬이나 그 프로세스 또는 환경에 대한 새로운 기능이나 규칙을 제안하는 문서입니다.\n",
        "* 그중 PEP 8은 파이썬 프로그래밍 언어의 코딩 스타일 가이드라인을 정의한 문서로 코드의 가독성을 향상시키기 위해 따라야 할 규칙과 권장 사항을 제시하고 있습니다.\n",
        "* 가독성과 일관성을 위해 지켜져야하는 규칙\n",
        "\n",
        "\n",
        "PEP8 : 핵심적인 규칙\n",
        "들여쓰기: 들여쓰기는 공백 4개를 사용합니다. 탭 대신 공백을 사용하는 것이 권장됩니다."
      ]
    },
    {
      "cell_type": "markdown",
      "metadata": {
        "id": "LtDI6_MKw5nW"
      },
      "source": [
        "----"
      ]
    },
    {
      "cell_type": "markdown",
      "metadata": {
        "id": "pCsdAg9Nw5nX"
      },
      "source": [
        "<span style=\"font-size:80%\">[문제3]<br><br></span>\n",
        "```Python에서 \"#\"이 의마하는 것은 무엇인지 설명해주세요```"
      ]
    },
    {
      "cell_type": "markdown",
      "metadata": {
        "id": "ByUluO9Nw5nX"
      },
      "source": [
        "<span style=\"color:red\">답변</span>"
      ]
    },
    {
      "cell_type": "markdown",
      "metadata": {
        "id": "Q3sGdFELw5nX"
      },
      "source": [
        "주석처리를 의미합니다."
      ]
    },
    {
      "cell_type": "markdown",
      "metadata": {
        "id": "rOQXqmwGw5nX"
      },
      "source": [
        "----"
      ]
    },
    {
      "cell_type": "markdown",
      "metadata": {
        "id": "JJs_EH62w5nX"
      },
      "source": [
        "<span style=\"font-size:80%\">[문제4]<br><br></span>\n",
        "```Python의 들여쓰기 장점과 기능에 대해 설명해주세요```"
      ]
    },
    {
      "cell_type": "markdown",
      "metadata": {
        "id": "TdzDTqdHw5nX"
      },
      "source": [
        "<span style=\"color:red\">답변</span>"
      ]
    },
    {
      "cell_type": "markdown",
      "metadata": {
        "id": "agPeiJs0w5nX"
      },
      "source": [
        "들여쓰기는 코드의 가독성을 높일 수 있습니다.\n",
        "\n",
        "\n",
        "* 가독성 향상:\n",
        "들여쓰기는 코드의 가독성을 향상시킨다. 코드 블록이 시작하고 끝나는 위치를 명확하게 보여줌으로써 어떤 부분이 어떤 블록에 속하는지 쉽게 이해할 수 있다.\n",
        "\n",
        "* 코드 일관성:\n",
        "모든 Python 코드에서 일관된 들여쓰기 규칙을 사용해야 한다.\n",
        "이는 코드베이스 전체에서 일관성 있는 스타일을 유지하고 코드를 더 쉽게 유지 보수할 수 있게 한다.\n",
        "\n",
        "* 블록 구분:\n",
        "들여쓰기를 사용하면 코드 블록의 시작과 끝이 명시적으로 표시되므로 중괄호를 사용하는 언어에서 발생하는 오류 중 일부를 방지할 수 있다.\n",
        "\n",
        "* 코드 블록 강제:\n",
        "들여쓰기는 코드 블록을 강제하므로 잘못된 코드 구조를 방지한다.\n",
        "코드 블록이 끝나는 위치를 표현하기 위해 중괄호를 사용하는 것보다 들여쓰기를 사용하는 것이 간단하고 실수를 줄일 수 있다.\n",
        "\n",
        "* Python의 철학 (PEP 20 - Zen of Python):\n",
        "Zen of Python에서 \"가독성은 중요하다\"라는 원칙이 강조된다.\n",
        "들여쓰기를 통한 가독성은 Python의 설계 철학에 부합한다.\n",
        "\n",
        "* 문서화의 일부:\n",
        "Python에서는 주석과 함께 코드 블록을 문서화하는데, 이때 들여쓰기의 명확성이 중요한 역할을 한다.\n",
        "들여쓰기의 이러한 특성은 Python의 직관적이고 간결한 문법을 형성하며, 코드 작성 및 유지 관리를 더 쉽게 만든다."
      ]
    },
    {
      "cell_type": "markdown",
      "metadata": {
        "id": "lS_ZfQ05w5nY"
      },
      "source": [
        "----"
      ]
    },
    {
      "cell_type": "markdown",
      "metadata": {
        "id": "4PishXefw5nY"
      },
      "source": [
        "<span style=\"font-size:80%\">[문제5]<br><br></span>\n",
        "```print( )문의 기능 및 특징에 대해 설명해주세요```"
      ]
    },
    {
      "cell_type": "markdown",
      "metadata": {
        "id": "Z5L6jYqjw5nY"
      },
      "source": [
        "<span style=\"color:red\">답변</span>"
      ]
    },
    {
      "cell_type": "markdown",
      "metadata": {
        "id": "aqs0ez3Lw5nY"
      },
      "source": [
        "print() 함수는 콘솔 출력에 사용되는 기본적인 함수로, 값을 화면에 출력하는 데 사용됩니다.\n",
        "\n",
        "특징:\n",
        "\n",
        "\n",
        "*   다양한 데이터 출력: 문자열, 숫자, 리스트 등 다양한 타입 출력 가능.\n",
        "* 자동 문자열 변환: 값을 자동으로 문자열로 변환 후 출력.\n",
        "* 여러 값 출력: 쉼표로 구분하여 여러 값을 출력하며 기본 구분자는 공백(sep).\n",
        "* 출력 끝 지정: 출력 끝에 줄바꿈(\\n) 외 다른 문자 설정 가능(end).\n",
        "* 파일 출력: file 매개변수로 출력 대상을 파일로 변경 가능.\n",
        "* 버퍼 처리: flush 매개변수를 통해 출력 즉시 버퍼 비우기 지원.\n",
        "* 가독성 향상: f-string, str.format(), % 등 포매팅 지원.\n",
        "\n"
      ]
    }
  ],
  "metadata": {
    "language_info": {
      "name": "python"
    },
    "colab": {
      "provenance": [],
      "include_colab_link": true
    }
  },
  "nbformat": 4,
  "nbformat_minor": 0
}