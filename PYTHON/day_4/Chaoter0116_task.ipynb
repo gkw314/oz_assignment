{
  "cells": [
    {
      "cell_type": "markdown",
      "metadata": {
        "id": "view-in-github",
        "colab_type": "text"
      },
      "source": [
        "<a href=\"https://colab.research.google.com/github/gkw314/oz_assignment/blob/main/Chaoter0116_task.ipynb\" target=\"_parent\"><img src=\"https://colab.research.google.com/assets/colab-badge.svg\" alt=\"Open In Colab\"/></a>"
      ]
    },
    {
      "cell_type": "markdown",
      "metadata": {
        "id": "BX7SgOeWu86I"
      },
      "source": [
        "안녕하세요. 수강생 여러분~!\n",
        "\n",
        "다시 돌아온 조금 더 성장할 기 ! 회 !\n",
        "\n",
        "Chapter01 ~ 16의 수업 내용을 바탕으로 아래 문제를 풀어주시면 됩니다 !\n",
        "\n",
        "지금까지 잘 해오셨으니까, 총 복습한다고 생각하시고 한번 도전해보세요 !!!\n",
        "\n",
        "차근 차근 문제와 요구사항을 읽고 작성해보세요.\n",
        "\n",
        "<br>\n",
        "\n",
        "\n",
        "[**답변 입력 방법**]\n",
        "\n",
        "문제 아래에 있는 코드 입력창에 정답코드를 작성하신 후  __▷ 버튼을 클릭해 코드를 실행__ 해보세요<br>"
      ]
    },
    {
      "cell_type": "markdown",
      "metadata": {
        "id": "KR8p4rO0-mWN"
      },
      "source": [
        "---"
      ]
    },
    {
      "cell_type": "markdown",
      "metadata": {
        "id": "os9ext46-mWO"
      },
      "source": [
        "#### 프로젝트: 붕어빵 자동 판매 시스템\n",
        "\n",
        "\n",
        "당신은 붕어빵 가게의 주인입니다.\n",
        "\n",
        "손님들이 붕어빵을 주문하면 이를 자동으로 처리하고, 재고를 관리하는 시스템을 만들고자 합니다.\n",
        "\n",
        "또한, 관리자 모드를 통해 재고를 추가할 수 있는 기능을 구현해야 합니다.\n"
      ]
    },
    {
      "cell_type": "markdown",
      "metadata": {
        "id": "U3Jsiy0e-mWP"
      },
      "source": [
        "__[문제 1: 붕어빵 재고 확인]__\n",
        "\n",
        "붕어빵 가게의 현재 재고를 확인하는 기능을 구현하세요.\n",
        "\n",
        "요구사항:\n",
        "- 현재 붕어빵의 재고를 딕셔너리로 관리합니다.\n",
        "- 딕셔너리에는 붕어빵의 종류와 각각의 재고 개수가 저장됩니다.\n",
        "- 현재 재고를 화면에 출력하세요.\n",
        "\n",
        "붕어빵 재고\n",
        "- 팥붕어빵 : 10개\n",
        "- 슈크림붕어빵 : 8개\n",
        "- 초코붕어빵 : 5개"
      ]
    },
    {
      "cell_type": "code",
      "execution_count": 4,
      "metadata": {
        "id": "vLWNcscB-mWP"
      },
      "outputs": [],
      "source": [
        "# 재고 딕셔너리에 저장\n",
        "stock = {\n",
        "    \"팥붕어빵\": 10,\n",
        "    \"슈크림붕어빵\": 8,\n",
        "    \"초코붕어빵\": 5\n",
        "}"
      ]
    },
    {
      "cell_type": "markdown",
      "metadata": {
        "id": "Mp-PKMEi-mWP"
      },
      "source": [
        "__[문제 2: 붕어빵 주문 받기]__\n",
        "\n",
        "손님이 주문한 붕어빵의 종류와 개수를 입력받는 기능을 구현하세요.\n",
        "\n",
        "요구사항:\n",
        "- 손님이 주문할 붕어빵의 종류와 개수를 입력받습니다.\n",
        "- 주문 내용을 딕셔너리에 저장하세요.\n",
        "- 주문 내역을 출력해주세요."
      ]
    },
    {
      "cell_type": "code",
      "execution_count": 7,
      "metadata": {
        "colab": {
          "base_uri": "https://localhost:8080/"
        },
        "id": "eSaFvH4H-mWQ",
        "outputId": "7afa1b0f-d8a7-46e1-9423-5e55caeb809f"
      },
      "outputs": [
        {
          "output_type": "stream",
          "name": "stdout",
          "text": [
            "주문하실 붕어빵의 종류를 입력해주세요.(팥붕어빵, 슈크림붕어빵, 초코붕어빵)팥붕어빵\n",
            "주문하실 붕어빵의 개수를 입력해주세요.11\n",
            "주문하신 내역: {'팥붕어빵': 11}\n"
          ]
        }
      ],
      "source": [
        "# 주문 내용 딕셔너리에 저장\n",
        "order = {}\n",
        "# 붕어빵 종류 주문받기\n",
        "fish_bred_type = input(\"주문하실 붕어빵의 종류를 입력해주세요.(팥붕어빵, 슈크림붕어빵, 초코붕어빵)\")\n",
        "# 붕어빵 개수 주문받기\n",
        "fish_bred_count = int(input(\"주문하실 붕어빵의 개수를 입력해주세요.\"))\n",
        "# 주문내역\n",
        "order[fish_bred_type] = fish_bred_count\n",
        "print(f\"주문하신 내역: {order}\")"
      ]
    },
    {
      "cell_type": "markdown",
      "metadata": {
        "id": "4fJ0abQE-mWR"
      },
      "source": [
        "__[문제 3: 붕어빵 주문 처리]__\n",
        "\n",
        "손님의 주문을 처리하여 붕어빵 재고를 업데이트하는 기능을 구현하세요.\n",
        "\n",
        "요구사항:\n",
        "- 손님의 주문 내용을 기반으로 재고를 업데이트합니다.\n",
        "- 재고가 부족할 경우, 손님에게 재고 부족을 알리고 재고를 감소시키지 않습니다.\n",
        "- 재고가 충분할 경우, 주문한 만큼 재고를 감소시키고 판매를 완료합니다.\n",
        "- 판매가 완료된 경우 판매된 붕어빵 맛과 개수를 출력하세요."
      ]
    },
    {
      "cell_type": "code",
      "execution_count": 14,
      "metadata": {
        "colab": {
          "base_uri": "https://localhost:8080/"
        },
        "id": "gOrrWjDm-mWR",
        "outputId": "4184f0bd-5dd6-4966-c586-ef3ad29d2ce6"
      },
      "outputs": [
        {
          "output_type": "stream",
          "name": "stdout",
          "text": [
            "팥붕어빵의 재고가 부족합니다. 현재 팥붕어빵의 재고는 10 개\n"
          ]
        }
      ],
      "source": [
        "# 붕어빵재고가 충분할경우\n",
        "if stock[fish_bred_type] >= fish_bred_count:\n",
        "    # 재고가 충분하므로 요청된 수량만큼 재고를 차감\n",
        "    stock[fish_bred_type] -= fish_bred_count\n",
        "    print(f\"{fish_bred_type} {fish_bred_count}개 판매되었습니다.\")\n",
        "# 붕어빵 재고가 부족할 경우\n",
        "else :\n",
        "    print(f\"{fish_bred_type}의 재고가 부족합니다. 현재 {fish_bred_type}의 재고는 {stock[fish_bred_type]} 개\")"
      ]
    },
    {
      "cell_type": "markdown",
      "metadata": {
        "id": "_8kXC1A--mWS"
      },
      "source": [
        "__[문제 4: 여러 손님 주문 처리]__\n",
        "\n",
        "여러 손님들의 주문을 처리할 수 있도록 시스템을 확장하세요.\n",
        "\n",
        "요구사항:\n",
        "- 손님이 \"종료\"를 입력할 때까지 주문을 계속 받습니다.\n",
        "- 각 주문마다 재고를 업데이트합니다.\n",
        "- 현재 재고를 화면에 출력합니다."
      ]
    },
    {
      "cell_type": "code",
      "execution_count": 25,
      "metadata": {
        "colab": {
          "base_uri": "https://localhost:8080/"
        },
        "id": "WXIXh37R-mWS",
        "outputId": "d02638f5-02be-4bb1-9c87-889558e11a51"
      },
      "outputs": [
        {
          "output_type": "stream",
          "name": "stdout",
          "text": [
            "주문하실 붕어빵의 종류를 입력해주세요.(팥붕어빵, 슈크림붕어빵, 초코붕어빵) \n",
            "주문 종료를 원하시면 '종료'라고 입력해주세요.팥붕어빵\n",
            "주문하실 붕어빵의 개수를 입력해주세요.5\n",
            "팥붕어빵 5개 판매되었습니다.\n",
            "\n",
            "현재 붕어빵 재고:\n",
            "팥붕어빵: 3개\n",
            "슈크림붕어빵: 0개\n",
            "초코붕어빵: 4개\n",
            "주문하실 붕어빵의 종류를 입력해주세요.(팥붕어빵, 슈크림붕어빵, 초코붕어빵) \n",
            "주문 종료를 원하시면 '종료'라고 입력해주세요.종료\n",
            "주문을 종료합니다.\n"
          ]
        }
      ],
      "source": [
        "while True:\n",
        "    # 붕어빵 종류 주문받기\n",
        "    fish_bred_type = input(\"주문하실 붕어빵의 종류를 입력해주세요.(팥붕어빵, 슈크림붕어빵, 초코붕어빵) \\n주문 종료를 원하시면 '종료'라고 입력해주세요.\")\n",
        "    # 주문 종료\n",
        "    if fish_bred_type == \"종료\":\n",
        "        print(\"주문을 종료합니다.\")\n",
        "        break\n",
        "\n",
        "    # 붕어빵 개수 주문받기\n",
        "    fish_bred_count = int(input(\"주문하실 붕어빵의 개수를 입력해주세요.\"))\n",
        "\n",
        "    # 붕어빵재고가 충분할경우\n",
        "    if stock[fish_bred_type] >= fish_bred_count:\n",
        "        # 재고가 충분하므로 요청된 수량만큼 재고를 차감\n",
        "        stock[fish_bred_type] -= fish_bred_count\n",
        "        print(f\"{fish_bred_type} {fish_bred_count}개 판매되었습니다.\")\n",
        "    # 붕어빵 재고가 부족할 경우\n",
        "    else :\n",
        "        print(f\"{fish_bred_type}의 재고가 부족합니다. 현재 {fish_bred_type}의 재고는 {stock[fish_bred_type]} 개\")\n",
        "\n",
        "    # 현재 재고 상태 출력\n",
        "    print(\"\\n현재 붕어빵 재고:\")\n",
        "    for bread, quantity in stock.items():\n",
        "        print(f\"{bread}: {quantity}개\")"
      ]
    },
    {
      "cell_type": "markdown",
      "metadata": {
        "id": "rFO98lm_-mWS"
      },
      "source": [
        "__[문제 5: 관리자 모드]__\n",
        "\n",
        "관리자 모드를 통해 붕어빵 재고를 추가할 수 있는 기능을 구현하세요.\n",
        "\n",
        "요구사항:\n",
        "- 관리자는 특정 붕어빵의 재고를 추가할 수 있습니다.\n",
        "- \"종료\"를 입력하면 관리자 모드를 종료합니다.\n",
        "- 추가된 재고를 업데이트하고 현재 재고를 화면에 출력합니다."
      ]
    },
    {
      "cell_type": "code",
      "execution_count": 26,
      "metadata": {
        "colab": {
          "base_uri": "https://localhost:8080/"
        },
        "id": "O2kMfy6t-mWS",
        "outputId": "5efd4cfe-dac2-49f3-c62c-d91462b2e8d3"
      },
      "outputs": [
        {
          "output_type": "stream",
          "name": "stdout",
          "text": [
            "추가할 붕어빵의 종류를 입력해주세요.(팥붕어빵, 슈크림붕어빵, 초코붕어빵) \n",
            "추가 종료를 원하시면 '종료'라고 입력해주세요.슈크림붕어빵\n",
            "추가할 붕어빵의 개수를 입력해주세요.3\n",
            "\n",
            "현재 붕어빵 재고:\n",
            "팥붕어빵: 3개\n",
            "슈크림붕어빵: 3개\n",
            "초코붕어빵: 4개\n",
            "추가할 붕어빵의 종류를 입력해주세요.(팥붕어빵, 슈크림붕어빵, 초코붕어빵) \n",
            "추가 종료를 원하시면 '종료'라고 입력해주세요.종료\n",
            "추가를 종료합니다.\n"
          ]
        }
      ],
      "source": [
        "while True:\n",
        "    # 붕어빵 재고 추가\n",
        "    fish_bred_type = input(\"추가할 붕어빵의 종류를 입력해주세요.(팥붕어빵, 슈크림붕어빵, 초코붕어빵) \\n추가 종료를 원하시면 '종료'라고 입력해주세요.\")\n",
        "    # 붕어빵 추가 종료\n",
        "    if fish_bred_type == \"종료\":\n",
        "        print(\"추가를 종료합니다.\")\n",
        "        break\n",
        "    # 붕어빵 추가 개수\n",
        "    fish_bred_count = int(input(\"추가할 붕어빵의 개수를 입력해주세요.\"))\n",
        "    stock[fish_bred_type] += fish_bred_count\n",
        "\n",
        "    # 추가한 . 후 붕어빵 재고 확인\n",
        "    print(\"\\n현재 붕어빵 재고:\")\n",
        "    for bread, quantity in stock.items():\n",
        "        print(f\"{bread}: {quantity}개\")"
      ]
    },
    {
      "cell_type": "markdown",
      "metadata": {
        "id": "4O--p5ej-mWT"
      },
      "source": [
        "__[문제 6: 매출 확인]__\n",
        "\n",
        "붕어빵 판매 가격을 설정하고, 판매한 붕어빵의 매출을 계산하세요.\n",
        "\n",
        "요구사항:\n",
        "- 각 붕어빵의 가격을 딕셔너리로 관리합니다.\n",
        "- 판매된 붕어빵의 종류와 개수를 딕셔너리로 관리합니다.\n",
        "- 총 매출을 계산하여 출력합니다.\n",
        "\n",
        "초기 설정:\n",
        "- 가격\n",
        "    - \"팥붕어빵\": 1000\n",
        "    - \"슈크림붕어빵\": 1200\n",
        "    - \"초코붕어빵\": 1500\n",
        "\n",
        "- 판매 개수\n",
        "    - \"팥붕어빵\": 0\n",
        "    - \"슈크림붕어빵\": 0\n",
        "    - \"초코붕어빵\": 0"
      ]
    },
    {
      "cell_type": "code",
      "source": [
        "prices = {\n",
        "    \"팥붕어빵\": 1000,\n",
        "    \"슈크림붕어빵\": 1200,\n",
        "    \"초코붕어빵\": 1500\n",
        "}\n",
        "sales = {\n",
        "    \"팥붕어빵\": 0,\n",
        "    \"슈크림붕어빵\": 0,\n",
        "    \"초코붕어빵\": 0\n",
        "}\n",
        "\n",
        "total_sales = sum(sales[bread] * prices[bread] for bread in sales)\n",
        "print(\"-----오늘 거래 내역-----\")\n",
        "print(f\"총 매출: {total_sales}원\")\n",
        "print('\\n'.join([f\"{bread} 판매: {sales[bread]}개, 매출: {sales[bread] * prices[bread]}원\" for bread in sales]))"
      ],
      "metadata": {
        "colab": {
          "base_uri": "https://localhost:8080/"
        },
        "id": "1IBYTyojjjsL",
        "outputId": "a3ad6e18-27be-4347-d9c3-e708405fc439"
      },
      "execution_count": 9,
      "outputs": [
        {
          "output_type": "stream",
          "name": "stdout",
          "text": [
            "총 매출: 0원\n"
          ]
        }
      ]
    },
    {
      "cell_type": "code",
      "execution_count": 18,
      "metadata": {
        "colab": {
          "base_uri": "https://localhost:8080/"
        },
        "id": "nPS9mMul-mWT",
        "outputId": "b216ff8f-f80d-432d-ca0c-d356f4fce419"
      },
      "outputs": [
        {
          "output_type": "stream",
          "name": "stdout",
          "text": [
            "모드를 선택해주세요 (주문자, 관리자, 종료)주문자\n",
            "\n",
            "-----주문자 모드-----\n",
            "\n",
            "주문하실 붕어빵의 종류를 입력해주세요.(팥붕어빵, 슈크림붕어빵, 초코붕어빵) \n",
            "주문 종료를 원하시면 '종료'라고 입력해주세요.팥붕어빵\n",
            "주문하실 팥붕어빵의 개수를 입력해주세요. 10\n",
            "팥붕어빵 10개 판매되었습니다.\n",
            "\n",
            "현재 붕어빵 재고:\n",
            "팥붕어빵: 0개\n",
            "슈크림붕어빵: 8개\n",
            "초코붕어빵: 5개\n",
            "주문하실 붕어빵의 종류를 입력해주세요.(팥붕어빵, 슈크림붕어빵, 초코붕어빵) \n",
            "주문 종료를 원하시면 '종료'라고 입력해주세요.팥붕어빵\n",
            "주문하실 팥붕어빵의 개수를 입력해주세요. 10\n",
            "팥붕어빵의 재고가 부족합니다. 현재 팥붕어빵의 재고는 0 개\n",
            "\n",
            "현재 붕어빵 재고:\n",
            "팥붕어빵: 0개\n",
            "슈크림붕어빵: 8개\n",
            "초코붕어빵: 5개\n",
            "주문하실 붕어빵의 종류를 입력해주세요.(팥붕어빵, 슈크림붕어빵, 초코붕어빵) \n",
            "주문 종료를 원하시면 '종료'라고 입력해주세요.슈크림붕어빵\n",
            "주문하실 슈크림붕어빵의 개수를 입력해주세요. 8\n",
            "슈크림붕어빵 8개 판매되었습니다.\n",
            "\n",
            "현재 붕어빵 재고:\n",
            "팥붕어빵: 0개\n",
            "슈크림붕어빵: 0개\n",
            "초코붕어빵: 5개\n",
            "주문하실 붕어빵의 종류를 입력해주세요.(팥붕어빵, 슈크림붕어빵, 초코붕어빵) \n",
            "주문 종료를 원하시면 '종료'라고 입력해주세요.초코붕어빵\n",
            "주문하실 초코붕어빵의 개수를 입력해주세요. 5\n",
            "초코붕어빵 5개 판매되었습니다.\n",
            "\n",
            "현재 붕어빵 재고:\n",
            "팥붕어빵: 0개\n",
            "슈크림붕어빵: 0개\n",
            "초코붕어빵: 0개\n",
            "주문하실 붕어빵의 종류를 입력해주세요.(팥붕어빵, 슈크림붕어빵, 초코붕어빵) \n",
            "주문 종료를 원하시면 '종료'라고 입력해주세요.종료\n",
            "붕어빵 주문을 종료합니다.\n",
            "모드를 선택해주세요 (주문자, 관리자, 종료)관리자\n",
            "\n",
            "-----관리자 모드-----\n",
            "\n",
            "추가할 붕어빵의 종류를 입력해주세요.(팥붕어빵, 슈크림붕어빵, 초코붕어빵) \n",
            "추가 종료를 원하시면 '종료'라고 입력해주세요.팥붕어빵\n",
            "팥붕어빵의 추가 개수를 입력하세요: 100\n",
            "팥붕어빵 재고가 100개 추가되었습니다.\n",
            "\n",
            "현재 붕어빵 재고:\n",
            "팥붕어빵: 100개\n",
            "슈크림붕어빵: 0개\n",
            "초코붕어빵: 0개\n",
            "추가할 붕어빵의 종류를 입력해주세요.(팥붕어빵, 슈크림붕어빵, 초코붕어빵) \n",
            "추가 종료를 원하시면 '종료'라고 입력해주세요.슈크림붕어빵\n",
            "슈크림붕어빵의 추가 개수를 입력하세요: 01\n",
            "슈크림붕어빵 재고가 1개 추가되었습니다.\n",
            "\n",
            "현재 붕어빵 재고:\n",
            "팥붕어빵: 100개\n",
            "슈크림붕어빵: 1개\n",
            "초코붕어빵: 0개\n",
            "추가할 붕어빵의 종류를 입력해주세요.(팥붕어빵, 슈크림붕어빵, 초코붕어빵) \n",
            "추가 종료를 원하시면 '종료'라고 입력해주세요.초코붕어빵\n",
            "초코붕어빵의 추가 개수를 입력하세요: -1\n",
            "추가 개수는 1개 이상이어야 합니다.\n",
            "추가할 붕어빵의 종류를 입력해주세요.(팥붕어빵, 슈크림붕어빵, 초코붕어빵) \n",
            "추가 종료를 원하시면 '종료'라고 입력해주세요.종료\n",
            "추가를 종료합니다.\n",
            "모드를 선택해주세요 (주문자, 관리자, 종료)종료\n",
            "프로그램을 종료합니다.\n",
            "\n",
            "-----오늘 거래 내역-----\n",
            "\n",
            "총 매출: 27100원\n",
            "팥붕어빵 판매: 10개, 매출: 10000원\n",
            "슈크림붕어빵 판매: 8개, 매출: 9600원\n",
            "초코붕어빵 판매: 5개, 매출: 7500원\n"
          ]
        }
      ],
      "source": [
        "# 붕어빵 초기 설정\n",
        "stock = {\n",
        "    \"팥붕어빵\": 10,\n",
        "    \"슈크림붕어빵\": 8,\n",
        "    \"초코붕어빵\": 5\n",
        "}\n",
        "prices = {\n",
        "    \"팥붕어빵\": 1000,\n",
        "    \"슈크림붕어빵\": 1200,\n",
        "    \"초코붕어빵\": 1500\n",
        "}\n",
        "sales = {\n",
        "    \"팥붕어빵\": 0,\n",
        "    \"슈크림붕어빵\": 0,\n",
        "    \"초코붕어빵\": 0\n",
        "}\n",
        "\n",
        "# 프로그램 모드 선택\n",
        "while True:\n",
        "    mode = input(\"모드를 선택해주세요 (주문자, 관리자, 종료)\")\n",
        "\n",
        "    if mode == '종료':\n",
        "        print(\"프로그램을 종료합니다.\")\n",
        "        break\n",
        "\n",
        "    if mode == '주문자':\n",
        "        print('\\n-----주문자 모드-----\\n')\n",
        "        while True:\n",
        "            # 붕어빵 종류 주문받기\n",
        "            fish_bred_type = input(\"주문하실 붕어빵의 종류를 입력해주세요.(팥붕어빵, 슈크림붕어빵, 초코붕어빵) \\n주문 종료를 원하시면 '종료'라고 입력해주세요.\")\n",
        "            # 주문 종료\n",
        "            if fish_bred_type == \"종료\":\n",
        "                print(\"붕어빵 주문을 종료합니다.\")\n",
        "                break\n",
        "\n",
        "            # 유효한 붕어빵인지 검사\n",
        "            if fish_bred_type not in stock:\n",
        "                print(f\"'{fish_bred_type}'는 판매하지 않습니다.\")\n",
        "                continue\n",
        "\n",
        "            # 주문 개수 입력\n",
        "            try:\n",
        "                fish_bred_count = int(input(f\"주문하실 {fish_bred_type}의 개수를 입력해주세요. \"))\n",
        "                if fish_bred_count <= 0: #붕어빵 개수가 1개 이상 음수는 x\n",
        "                    print(\"주문 개수는 1개 이상이어야 합니다.\")\n",
        "                    continue\n",
        "            except ValueError: # 숫자만 입력되게\n",
        "                print(\"잘못된 입력입니다. 숫자를 입력해주세요.\")\n",
        "                continue\n",
        "\n",
        "            # 붕어빵재고가 충분할경우\n",
        "            if stock[fish_bred_type] >= fish_bred_count:\n",
        "                # 재고가 충분하므로 요청된 수량만큼 재고를 차감\n",
        "                stock[fish_bred_type] -= fish_bred_count\n",
        "                # 판매량 증가\n",
        "                sales[fish_bred_type] += fish_bred_count\n",
        "                print(f\"{fish_bred_type} {fish_bred_count}개 판매되었습니다.\")\n",
        "            else :# 붕어빵 재고가 부족할 경우\n",
        "                print(f\"{fish_bred_type}의 재고가 부족합니다. 현재 {fish_bred_type}의 재고는 {stock[fish_bred_type]} 개\")\n",
        "\n",
        "            # 현재 재고 상태 출력\n",
        "            print(\"\\n현재 붕어빵 재고:\")\n",
        "            for bread, quantity in stock.items():\n",
        "                print(f\"{bread}: {quantity}개\")\n",
        "\n",
        "\n",
        "    if mode == '관리자':\n",
        "        print(\"\\n-----관리자 모드-----\\n\")\n",
        "        while True:\n",
        "            # 붕어빵 재고 추가\n",
        "            fish_bred_type = input(\"추가할 붕어빵의 종류를 입력해주세요.(팥붕어빵, 슈크림붕어빵, 초코붕어빵) \\n추가 종료를 원하시면 '종료'라고 입력해주세요.\")\n",
        "            # 붕어빵 추가 종료\n",
        "            if fish_bred_type == \"종료\":\n",
        "                print(\"추가를 종료합니다.\")\n",
        "                break\n",
        "\n",
        "            # 추가 개수 입력\n",
        "            # 위와 마찬가지로 유효한 값인지 검사\n",
        "            try:\n",
        "                add_fish_bred_count = int(input(f\"{fish_bred_type}의 추가 개수를 입력하세요: \"))\n",
        "                if add_fish_bred_count <= 0:\n",
        "                    print(\"추가 개수는 1개 이상이어야 합니다.\")\n",
        "                    continue\n",
        "            except ValueError:\n",
        "                print(\"잘못된 입력입니다. 숫자를 입력해주세요.\")\n",
        "                continue\n",
        "\n",
        "            # 재고 추가\n",
        "            stock[fish_bred_type] += add_fish_bred_count\n",
        "            print(f\"{fish_bred_type} 재고가 {add_fish_bred_count}개 추가되었습니다.\")\n",
        "\n",
        "            # 추가한 . 후 붕어빵 재고 확인\n",
        "            print(\"\\n현재 붕어빵 재고:\")\n",
        "            for bread, quantity in stock.items():\n",
        "                print(f\"{bread}: {quantity}개\")\n",
        "\n",
        "total_sales = sum(sales[bread] * prices[bread] for bread in sales)\n",
        "print(\"\\n-----오늘 거래 내역-----\\n\")\n",
        "print(f\"총 매출: {total_sales}원\")\n",
        "print('\\n'.join([f\"{bread} 판매: {sales[bread]}개, 매출: {sales[bread] * prices[bread]}원\" for bread in sales]))\n"
      ]
    }
  ],
  "metadata": {
    "colab": {
      "provenance": [],
      "include_colab_link": true
    },
    "kernelspec": {
      "display_name": "Python 3",
      "name": "python3"
    },
    "language_info": {
      "codemirror_mode": {
        "name": "ipython",
        "version": 3
      },
      "file_extension": ".py",
      "mimetype": "text/x-python",
      "name": "python",
      "nbconvert_exporter": "python",
      "pygments_lexer": "ipython3",
      "version": "3.11.7"
    }
  },
  "nbformat": 4,
  "nbformat_minor": 0
}