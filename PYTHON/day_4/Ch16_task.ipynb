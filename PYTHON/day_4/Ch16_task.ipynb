{
  "cells": [
    {
      "cell_type": "markdown",
      "metadata": {
        "id": "view-in-github",
        "colab_type": "text"
      },
      "source": [
        "<a href=\"https://colab.research.google.com/github/gkw314/oz_assignment/blob/main/Ch16_task.ipynb\" target=\"_parent\"><img src=\"https://colab.research.google.com/assets/colab-badge.svg\" alt=\"Open In Colab\"/></a>"
      ]
    },
    {
      "cell_type": "markdown",
      "metadata": {
        "id": "ioA-Mw0r8Nhu"
      },
      "source": [
        "<span style=\"font-size:100%\">\n",
        "\n",
        "수업은 모두 열심히 들으셨나요?\n",
        "\n",
        "간혹 강의에서 언급되지 않은 내용이 문제로 나올 수 있습니다.<br>\n",
        "그럴땐 강의 내용 외 문제는 구글링을 통해 해결해주세요<br></span>\n",
        "<span style=\"font-size:80%\">\n",
        "(구글링 또한 개발자가 갖쳐야할 역량 중에 하나랍니다 😊)\n",
        "</span>\n",
        "\n",
        "---"
      ]
    },
    {
      "cell_type": "markdown",
      "metadata": {
        "id": "zIyVK-ck8Nhx"
      },
      "source": [
        "<span style=\"font-size:80%\">[문제1]<br><br></span>\n",
        "아래 코드의 올바른 실행 결과를 골라주세요\n",
        "```\n",
        "i = 10\n",
        "\n",
        "while i < 19:\n",
        "    print(i, end=' ')\n",
        "    i += 2\n",
        "```\n",
        "\n",
        "1. 10, 11, 12, 13, 14, 15, 16, 17, 18, 19\n",
        "2. 10 11 12 13 14 15 16 17 18\n",
        "3. 10 12 14 16 18 19\n",
        "4. 10 12 14 16 18\n",
        "5. 10 12 14 16"
      ]
    },
    {
      "cell_type": "code",
      "source": [
        "i = 10\n",
        "\n",
        "while i < 19:\n",
        "    print(i, end=' ')\n",
        "    i += 2"
      ],
      "metadata": {
        "colab": {
          "base_uri": "https://localhost:8080/"
        },
        "id": "g3Z7z9y7GpwT",
        "outputId": "628bec89-c03a-4544-a6f3-657c68693be1"
      },
      "execution_count": 1,
      "outputs": [
        {
          "output_type": "stream",
          "name": "stdout",
          "text": [
            "10 12 14 16 18 "
          ]
        }
      ]
    },
    {
      "cell_type": "markdown",
      "metadata": {
        "id": "rPB1VxEg8Nhy"
      },
      "source": [
        "<span style=\"color:red\">답변</span>"
      ]
    },
    {
      "cell_type": "markdown",
      "metadata": {
        "id": "t-oAVOp68Nhy"
      },
      "source": [
        "4번"
      ]
    },
    {
      "cell_type": "markdown",
      "metadata": {
        "id": "8geaDlnI8Nhy"
      },
      "source": [
        "----"
      ]
    },
    {
      "cell_type": "markdown",
      "metadata": {
        "id": "P3g0yi528Nhy"
      },
      "source": [
        "<span style=\"font-size:80%\">[문제2]<br><br></span>\n",
        "다음 중 while 반복문에 대한 설명으로 잘못된 것을 모두 골라주세요\n",
        "\n",
        "1. while 반복문에는 조건식 또는 값을 지정하면 된다.\n",
        "2. while 반복문은 조건식의 결과가 True이면 반복을 끝낸다.\n",
        "3. while 반복문은 반복 횟수가 정해져 있을 때만 사용할 수 있다.\n",
        "4. while 반복문의 다음 줄은 반드시 들여쓰기를 해야 한다.\n",
        "5. while 반복문의 조건식에 True를 지정하면 무한 루프가 된다."
      ]
    },
    {
      "cell_type": "markdown",
      "metadata": {
        "id": "Lxc2JZnX8Nhy"
      },
      "source": [
        "<span style=\"color:red\">답변</span>"
      ]
    },
    {
      "cell_type": "markdown",
      "metadata": {
        "id": "_vllkTnw8Nhz"
      },
      "source": [
        "2번, 3번"
      ]
    },
    {
      "cell_type": "markdown",
      "metadata": {
        "id": "2eHXaKXI8Nhz"
      },
      "source": [
        "----"
      ]
    },
    {
      "cell_type": "markdown",
      "metadata": {
        "id": "RgTgaGGc8Nhz"
      },
      "source": [
        "<span style=\"font-size:80%\">[문제3]<br><br></span>\n",
        "while문을 사용하여, 100 이상의 자연수 중 가장 작은 23의 배수를 츨력하는 코드를 작성해주세요"
      ]
    },
    {
      "cell_type": "markdown",
      "metadata": {
        "id": "LAC6HK4Y8Nhz"
      },
      "source": [
        "<span style=\"color:red\">답변</span>"
      ]
    },
    {
      "cell_type": "markdown",
      "metadata": {
        "id": "3VGktezC8Nhz"
      },
      "source": []
    },
    {
      "cell_type": "code",
      "source": [
        "i = 100\n",
        "\n",
        "while i % 23 != 0:  # 23으로 나누어 떨어지지 않는 동안 반복\n",
        "    i += 1\n",
        "\n",
        "print(i)"
      ],
      "metadata": {
        "colab": {
          "base_uri": "https://localhost:8080/"
        },
        "id": "mh_DsGOtG8ts",
        "outputId": "54695ce7-459a-4c89-fe0c-c7573d771e3a"
      },
      "execution_count": 3,
      "outputs": [
        {
          "output_type": "stream",
          "name": "stdout",
          "text": [
            "115\n"
          ]
        }
      ]
    },
    {
      "cell_type": "markdown",
      "metadata": {
        "id": "H3ED_Yub8Nh0"
      },
      "source": [
        "----"
      ]
    }
  ],
  "metadata": {
    "language_info": {
      "name": "python"
    },
    "colab": {
      "provenance": [],
      "include_colab_link": true
    },
    "kernelspec": {
      "name": "python3",
      "display_name": "Python 3"
    }
  },
  "nbformat": 4,
  "nbformat_minor": 0
}