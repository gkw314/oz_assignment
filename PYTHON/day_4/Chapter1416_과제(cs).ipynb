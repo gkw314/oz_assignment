{
  "cells": [
    {
      "cell_type": "markdown",
      "metadata": {
        "id": "view-in-github",
        "colab_type": "text"
      },
      "source": [
        "<a href=\"https://colab.research.google.com/github/gkw314/oz_assignment/blob/main/Chapter1416_%E1%84%80%E1%85%AA%E1%84%8C%E1%85%A6(cs).ipynb\" target=\"_parent\"><img src=\"https://colab.research.google.com/assets/colab-badge.svg\" alt=\"Open In Colab\"/></a>"
      ]
    },
    {
      "cell_type": "markdown",
      "metadata": {
        "id": "WXEwMsfUct7U"
      },
      "source": [
        "컴퓨터 기초 지식을 의미하는 CS(Computer science)는<br>\n",
        "코딩 테스트와 함께 기술 면접에서 지원자에게 필수적으로 요구합니다.<br>\n",
        "\n",
        "수업 내용 중 기술 면접에 자주 나오는 질문 3가지와 기본적으로 알아야 할 내용 과제로 선정했습니다.<br>\n",
        "\n",
        "관련 내용에 대해서는 구글링 또는 관련 서적을 통해 상세히 공부하시고<br>\n",
        "답변은 최대한 핵심만 담아 간결하게 작성해주세요<br>\n",
        "\n",
        "기술 블로그를 운영 중이신 경우<br>\n",
        "답변 내용을 기술 블로그에 작성하신 후 링크를 답변에 남겨주셔도 됩니다.<br>"
      ]
    },
    {
      "cell_type": "markdown",
      "metadata": {
        "id": "qoyC9wF-3hvs"
      },
      "source": [
        "-----"
      ]
    },
    {
      "cell_type": "markdown",
      "metadata": {
        "id": "rAD_O3Gmc_43"
      },
      "source": [
        "[문제1]\n",
        "\n",
        "파이썬 2.7 버전과 파이썬 3에서 range 차이를 설명해주세요"
      ]
    },
    {
      "cell_type": "markdown",
      "metadata": {
        "id": "ijyX9rUAMh8S"
      },
      "source": [
        "파이썬 2.7에서는 range를 사용하면 실제로 연속된 숫자가 들어있는 리스트를 만들어낸다.    \n",
        "- 파이썬 2.7에서의 range함수는 실제 리스트를 생성.  \n",
        "<br>\n",
        "\n",
        "파이썬 3에서는 range 객체(반복 가능한 객체)를 만들어낸다.\n",
        "- 파이썬 3에서의 range함수는 이터레이터를 반환\n",
        "\n"
      ]
    },
    {
      "cell_type": "markdown",
      "metadata": {
        "id": "4SBlq8G_Mh8S"
      },
      "source": [
        "---"
      ]
    },
    {
      "cell_type": "markdown",
      "metadata": {
        "id": "3uK_auXYdgk2"
      },
      "source": [
        "[문제2]\n",
        "\n",
        "Python의 얕은 복사와 깊은 복사에 대해서 설명하세요"
      ]
    },
    {
      "cell_type": "markdown",
      "source": [
        "얕은 복사 :\n",
        "새로가져올객체 = copy.copy(복사할객체)\n",
        "\n",
        "1) 얕은 복사는 원본 객체의 최상위 레벨만 복사.   \n",
        "겉만 복사하는 형식.   \n",
        "2) 새로운 리스트를 만들지만, 그 안의 요소들은 원본 리스트와 같은 객체를 참조\n",
        "     \n",
        "<br>\n",
        "깊은 복사 :\n",
        "새로가져올객체 = copy.deepcopy(복사할객체)\n",
        "\n",
        "1) 깊은 복사는 원본 객체의 모든 레벨을 재귀적으로 복사.   \n",
        " 원본 객체와 완전히 다른 새로운 복사본 생성.  \n",
        "2) 깊은 복사는 주로 중첩된 리스트나 딕셔너리와 같이 내부 객체까지 모두 복사해야 할 때 사용"
      ],
      "metadata": {
        "id": "KzoLmPx-WDal"
      }
    },
    {
      "cell_type": "code",
      "execution_count": null,
      "metadata": {
        "id": "9kvBxa6PdhgA"
      },
      "outputs": [],
      "source": []
    }
  ],
  "metadata": {
    "colab": {
      "provenance": [],
      "include_colab_link": true
    },
    "kernelspec": {
      "display_name": "Python 3",
      "name": "python3"
    },
    "language_info": {
      "name": "python"
    }
  },
  "nbformat": 4,
  "nbformat_minor": 0
}