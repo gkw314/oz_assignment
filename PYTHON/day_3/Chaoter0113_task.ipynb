{
  "cells": [
    {
      "cell_type": "markdown",
      "metadata": {
        "id": "view-in-github",
        "colab_type": "text"
      },
      "source": [
        "<a href=\"https://colab.research.google.com/github/gkw314/oz_assignment/blob/main/Chaoter0113_task.ipynb\" target=\"_parent\"><img src=\"https://colab.research.google.com/assets/colab-badge.svg\" alt=\"Open In Colab\"/></a>"
      ]
    },
    {
      "cell_type": "markdown",
      "metadata": {
        "id": "fD4Qab2qYgOm"
      },
      "source": [
        "안녕하세요. 수강생 여러분~!\n",
        "\n",
        "Chapter01 ~ 13의 수업 내용을 바탕으로 아래 문제를 풀어주시면 됩니다 !\n",
        "\n",
        "지금까지 잘 해오셨으니까, 총 복습한다고 생각하시고 한번 도전해보세요 !!!\n",
        "\n",
        "\n",
        "<br>\n",
        "\n",
        "\n",
        "[**답변 입력 방법**]\n",
        "\n",
        "문제 아래에 있는 코드 입력창에 정답코드를 작성하신 후  __▷ 버튼을 클릭해 코드를 실행__ 해보세요<br>"
      ]
    },
    {
      "cell_type": "markdown",
      "metadata": {
        "id": "0hAPx_cyQCb4"
      },
      "source": [
        "---"
      ]
    },
    {
      "cell_type": "markdown",
      "metadata": {
        "id": "5z05rrHAQCb5"
      },
      "source": [
        "### 프로젝트: 간단한 ATM 관리 시스템\n",
        "<br>\n",
        "\n",
        "__[문제 1: 잔액 확인]__\n",
        "\n",
        "현재 잔액은 1000원입니다. 현재 잔액을 출력하세요.\n",
        "\n",
        "(변수명 예시 : 잔액 - balance)"
      ]
    },
    {
      "cell_type": "code",
      "execution_count": 4,
      "metadata": {
        "colab": {
          "base_uri": "https://localhost:8080/"
        },
        "id": "G7AhaxjWQCb5",
        "outputId": "4a622397-e212-410f-ff88-0d34c40ce848"
      },
      "outputs": [
        {
          "output_type": "stream",
          "name": "stdout",
          "text": [
            "1000\n"
          ]
        }
      ],
      "source": [
        "balance = 1000\n",
        "print(balance)"
      ]
    },
    {
      "cell_type": "markdown",
      "metadata": {
        "id": "c0wWKBBrQCb5"
      },
      "source": [
        "__[문제 2: 입금]__\n",
        "\n",
        "가지고 있는 돈을 입금합니다.\n",
        "\n",
        "입금 금액을 입력받고, 잔액을 갱신한 후 새로운 잔액을 출력하세요. 입금 거래를 영수증 리스트에 기록하세요.\n",
        "\n",
        "- 입금 금액은 input()을 이용해 받습니다.\n",
        "- 영수증은 list()로 선언합니다.\n",
        "- 영수증에 들어가는 정보는 튜플 형태입니다.\n",
        "- 튜플에 담기는 정보는 (입금 or 출금, 입금 or 출금 금액, 현재 잔액)순 입니다.\n",
        "\n",
        "(변수명 예시: 영수증 리스트 - receipts, 입금 금액 - deposit_amount)\n"
      ]
    },
    {
      "cell_type": "code",
      "execution_count": 15,
      "metadata": {
        "colab": {
          "base_uri": "https://localhost:8080/"
        },
        "id": "LVzftVXKQCb5",
        "outputId": "e4689970-38d9-4677-cc57-50817b1395f5"
      },
      "outputs": [
        {
          "output_type": "stream",
          "name": "stdout",
          "text": [
            "입금 금액을 입력하세요: 2000\n",
            "[('입금', 2000, 3000)]\n",
            "3000\n"
          ]
        }
      ],
      "source": [
        "balance = 1000\n",
        "receipts = []\n",
        "\n",
        "# 입금 입력\n",
        "deposit_amount = int(input(\"입금 금액을 입력하세요: \"))\n",
        "\n",
        "# 입금 갱신\n",
        "balance += deposit_amount\n",
        "\n",
        "#영수증\n",
        "receipts.append((\"입금\", deposit_amount, balance))\n",
        "\n",
        "print(receipts)\n",
        "print(balance)"
      ]
    },
    {
      "cell_type": "markdown",
      "metadata": {
        "id": "FRFbjgCXQCb5"
      },
      "source": [
        "__[문제 3: 출금]__\n",
        "\n",
        "사용자가 돈을 출금합니다. 출금 금액을 입력받고, 잔액을 갱신한 후 새로운 잔액을 출력하세요. 출금 거래를 영수증 리스트에 기록하세요.\n",
        "\n",
        "- 출금 금액은 input()을 이용해 받습니다.\n",
        "- 현재 잔액보다 출금 요청 금액이 많을 경우 현재 잔액 만큼만 출금되도록 합니다.\n",
        "- 영수증에 들어가는 정보는 튜플 형태입니다.\n",
        "- 튜플에 담기는 정보는 (입금 or 출금, 입금 or 출금 금액, 현재 잔액)순 입니다.\n",
        "\n",
        "(변수명 예시: 출금금액 - withdraw_amount)"
      ]
    },
    {
      "cell_type": "code",
      "execution_count": 17,
      "metadata": {
        "colab": {
          "base_uri": "https://localhost:8080/"
        },
        "id": "UB0gHsDzQCb6",
        "outputId": "aeb864f1-2e5e-47e2-f824-542e2e923e7f"
      },
      "outputs": [
        {
          "output_type": "stream",
          "name": "stdout",
          "text": [
            "출금 금액을 입력하세요: 1100\n",
            "[('출금', 1000, 0)]\n",
            "0\n"
          ]
        }
      ],
      "source": [
        "balance = 1000\n",
        "receipts = []\n",
        "# 출금 입력\n",
        "withdraw_amount = int(input(\"출금 금액을 입력하세요: \"))\n",
        "\n",
        "# 출금 가능 금액\n",
        "actual_withdrawn = min(withdraw_amount, balance)\n",
        "\n",
        "# 잔액 갱신\n",
        "balance -= actual_withdrawn\n",
        "\n",
        "# 영수증\n",
        "receipts.append((\"출금\", actual_withdrawn, balance))\n",
        "\n",
        "\n",
        "print(receipts)\n",
        "print(balance)"
      ]
    },
    {
      "cell_type": "markdown",
      "metadata": {
        "id": "1WwShFkDQCb6"
      },
      "source": [
        "__[문제 4: 모든 거래 내역 확인]__\n",
        "\n",
        "모든 거래 내역(영수증)을 요청받았을 때 출력하세요.\n",
        "- 지금까지 영수증에 추가된 정보를 출력합니다.\n",
        "- 출력 형태는 자유입니다."
      ]
    },
    {
      "cell_type": "code",
      "execution_count": 2,
      "metadata": {
        "colab": {
          "base_uri": "https://localhost:8080/"
        },
        "id": "Zk7ITCKgQCb6",
        "outputId": "ce79826f-dc0b-4e48-abe8-e265ddb970ad"
      },
      "outputs": [
        {
          "output_type": "stream",
          "name": "stdout",
          "text": [
            "입금 금액을 입력하세요: 2000\n",
            "[('입금', 2000, 3000)]\n",
            "현재 잔액: 3000원\n",
            "\n",
            "출금 금액을 입력하세요: 1500\n",
            "[('입금', 2000, 3000), ('출금', 1500, 1500)]\n",
            "현재 잔액: 1500원\n",
            "=== 모든 거래 내역 ===\n",
            "입금금액: 2000| 출금금랙: 1500| 현재 잔액: 1500원\n"
          ]
        }
      ],
      "source": [
        "balance = 1000\n",
        "receipts = []\n",
        "\n",
        "# 입금 입력\n",
        "deposit_amount = int(input(\"입금 금액을 입력하세요: \"))\n",
        "\n",
        "# 입금 갱신\n",
        "balance += deposit_amount\n",
        "\n",
        "# 영수증\n",
        "receipts.append((\"입금\", deposit_amount, balance))\n",
        "\n",
        "print(receipts)\n",
        "print(f\"현재 잔액: {balance}원\")\n",
        "\n",
        "\n",
        "\n",
        "# 출금 입력\n",
        "withdraw_amount = int(input(\"\\n출금 금액을 입력하세요: \"))\n",
        "\n",
        "# 출금 가능 금액\n",
        "actual_withdrawn = min(withdraw_amount, balance)\n",
        "\n",
        "# 잔액 갱신\n",
        "balance -= actual_withdrawn\n",
        "\n",
        "# 영수증\n",
        "receipts.append((\"출금\", actual_withdrawn, balance))\n",
        "\n",
        "print(receipts)\n",
        "print(f\"현재 잔액: {balance}원\")\n",
        "\n",
        "# 모든 거래 내역 출력\n",
        "print(\"=== 모든 거래 내역 ===\")\n",
        "print(f\"입금금액: {deposit_amount}| 출금금랙: {actual_withdrawn}| 현재 잔액: {balance}원\")"
      ]
    }
  ],
  "metadata": {
    "colab": {
      "provenance": [],
      "include_colab_link": true
    },
    "kernelspec": {
      "display_name": "Python 3",
      "name": "python3"
    },
    "language_info": {
      "name": "python"
    }
  },
  "nbformat": 4,
  "nbformat_minor": 0
}