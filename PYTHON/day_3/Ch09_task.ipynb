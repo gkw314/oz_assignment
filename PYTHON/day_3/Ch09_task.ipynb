{
  "cells": [
    {
      "cell_type": "markdown",
      "metadata": {
        "id": "view-in-github",
        "colab_type": "text"
      },
      "source": [
        "<a href=\"https://colab.research.google.com/github/gkw314/oz_assignment/blob/main/Ch09_task.ipynb\" target=\"_parent\"><img src=\"https://colab.research.google.com/assets/colab-badge.svg\" alt=\"Open In Colab\"/></a>"
      ]
    },
    {
      "cell_type": "markdown",
      "metadata": {
        "id": "EjqrkMm_7wQ9"
      },
      "source": [
        "<span style=\"font-size:100%\">\n",
        "\n",
        "수업은 모두 열심히 들으셨나요?\n",
        "\n",
        "간혹 강의에서 언급되지 않은 내용이 문제로 나올 수 있습니다.<br>\n",
        "그럴땐 강의 내용 외 문제는 구글링을 통해 해결해주세요<br></span>\n",
        "<span style=\"font-size:80%\">\n",
        "(구글링 또한 개발자가 갖쳐야할 역량 중에 하나랍니다 😊)\n",
        "</span>\n",
        "\n",
        "---"
      ]
    },
    {
      "cell_type": "markdown",
      "metadata": {
        "id": "xqqJLP997wQ_"
      },
      "source": [
        "<span style=\"font-size:80%\">[문제1]<br><br></span>\n",
        "아래 코드의 실행 결과로 올바른 것을 골라주세요<br>\n",
        "\n",
        "print(' * ', ' * ', ' * ', ' * ', ' * ', ' * ', sep='x')\n",
        "\n",
        "```\n",
        "1. x*x*x*x*x*x*\n",
        "2. ******\n",
        "3. ***x***\n",
        "4. *x*x*x*x*x*\n",
        "```"
      ]
    },
    {
      "cell_type": "code",
      "source": [
        "print(' * ', ' * ', ' * ', ' * ', ' * ', ' * ', sep='x')"
      ],
      "metadata": {
        "colab": {
          "base_uri": "https://localhost:8080/"
        },
        "id": "oj370Peh9g0L",
        "outputId": "e53c8a7f-cf0d-4e5f-bed8-7169f9d489b2"
      },
      "execution_count": 1,
      "outputs": [
        {
          "output_type": "stream",
          "name": "stdout",
          "text": [
            " * x * x * x * x * x * \n"
          ]
        }
      ]
    },
    {
      "cell_type": "markdown",
      "metadata": {
        "id": "Ovca8G1f7wRA"
      },
      "source": [
        "<span style=\"color:red\">답변</span>"
      ]
    },
    {
      "cell_type": "markdown",
      "metadata": {
        "id": "pqVjEuM_7wRB"
      },
      "source": [
        "4번"
      ]
    },
    {
      "cell_type": "markdown",
      "metadata": {
        "id": "nee2YUp97wRB"
      },
      "source": [
        "----"
      ]
    },
    {
      "cell_type": "markdown",
      "metadata": {
        "id": "ux_xDo3L7wRB"
      },
      "source": [
        "<span style=\"font-size:80%\">[문제2]<br><br></span>\n",
        "두 개의 값을 입력 받아 실수로 x와 y 변수에 저장하는 코드를 골라 주세요\n",
        "\n",
        "\n",
        "1. x, y = input('실수를 입력하세요: ')\n",
        "2. x, y = input('실수를 입력하세요: ').split()\n",
        "3. x = input('실수를 입력하세요'); y = input('실수를 입력하세요')\n",
        "4. x, y = map(float, input('실수를 입력하세요: ').split())"
      ]
    },
    {
      "cell_type": "markdown",
      "metadata": {
        "id": "S0_6jusD7wRC"
      },
      "source": [
        "<span style=\"color:red\">답변</span>"
      ]
    },
    {
      "cell_type": "markdown",
      "metadata": {
        "id": "8BxwEt367wRD"
      },
      "source": [
        "4번"
      ]
    },
    {
      "cell_type": "code",
      "source": [
        "# x, y = input('실수를 입력하세요: ')\n",
        "# x, y = input('실수를 입력하세요: ').split()\n",
        "# x = input('실수를 입력하세요'); y = input('실수를 입력하세요')\n",
        "x, y = map(float, input('실수를 입력하세요: ').split())"
      ],
      "metadata": {
        "colab": {
          "base_uri": "https://localhost:8080/"
        },
        "id": "y4a66gPH-2Oh",
        "outputId": "9a3accd7-6159-461b-8353-523c1787ee28"
      },
      "execution_count": 12,
      "outputs": [
        {
          "name": "stdout",
          "output_type": "stream",
          "text": [
            "실수를 입력하세요: 3.1 4.3\n"
          ]
        }
      ]
    },
    {
      "cell_type": "markdown",
      "metadata": {
        "id": "WmTdhOTM7wRD"
      },
      "source": [
        "----"
      ]
    },
    {
      "cell_type": "markdown",
      "metadata": {
        "id": "BwfBuKrj7wRD"
      },
      "source": [
        "<span style=\"font-size:80%\">[문제3]<br><br></span>\n",
        "\n",
        "아래와 같이 주어졌을때 실행 결과와 동일하게 출력되기 위해 1)과 2) 들어갈 코드를 작성해주세요\n",
        "\n",
        "```\n",
        "month = 12\n",
        "day = 25\n",
        "hour = 12\n",
        "minute = 30\n",
        "\n",
        "print(month, day, 1)________)\n",
        "print(hour, minute, 2)_______)\n",
        "\n",
        "```\n",
        "\n",
        "실행 결과 : 1) 12.25,   2) 12:30"
      ]
    },
    {
      "cell_type": "markdown",
      "metadata": {
        "id": "zrXE9LwT7wRD"
      },
      "source": [
        "<span style=\"color:red\">답변</span>"
      ]
    },
    {
      "cell_type": "markdown",
      "metadata": {
        "id": "clytngTu7wRE"
      },
      "source": []
    },
    {
      "cell_type": "code",
      "source": [
        "month = 12\n",
        "day = 25\n",
        "hour = 12\n",
        "minute = 30\n",
        "\n",
        "print(month, day, sep='.')\n",
        "print(hour, minute, sep=':')"
      ],
      "metadata": {
        "colab": {
          "base_uri": "https://localhost:8080/"
        },
        "id": "RSFsPpaE_BlK",
        "outputId": "0400669e-b660-4217-ef90-7fcd620d2b64"
      },
      "execution_count": 16,
      "outputs": [
        {
          "output_type": "stream",
          "name": "stdout",
          "text": [
            "12.25\n",
            "12:30\n"
          ]
        }
      ]
    },
    {
      "cell_type": "markdown",
      "metadata": {
        "id": "hwG7kQJP7wRE"
      },
      "source": [
        "----"
      ]
    }
  ],
  "metadata": {
    "language_info": {
      "name": "python"
    },
    "colab": {
      "provenance": [],
      "include_colab_link": true
    },
    "kernelspec": {
      "name": "python3",
      "display_name": "Python 3"
    }
  },
  "nbformat": 4,
  "nbformat_minor": 0
}