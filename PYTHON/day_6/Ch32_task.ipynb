{
 "cells": [
  {
   "cell_type": "markdown",
   "metadata": {},
   "source": [
    "두 문자열을 받아서 긴 문자열을 반환하는 함수 longer_string을 작성하세요. 만약 두 문자열의 길이가 같다면, 첫 번째 문자열을 반환하세요."
   ]
  },
  {
   "cell_type": "markdown",
   "metadata": {},
   "source": []
  },
  {
   "cell_type": "code",
   "execution_count": 4,
   "metadata": {},
   "outputs": [
    {
     "name": "stdout",
     "output_type": "stream",
     "text": [
      "안녕하세요요요\n",
      "C++ and C#\n"
     ]
    }
   ],
   "source": [
    "def longer_string(str1: str, str2: str) -> str:\n",
    "    # str1 (str): 첫 번째 문자열\n",
    "    # str2 (str): 두 번째 문자열\n",
    "    if len(str1) >= len(str2):\n",
    "        return str1\n",
    "    return str2\n",
    "\n",
    "print(longer_string(\"안녕하세요요요\", \"Python\")) \n",
    "print(longer_string(\"Java\", \"C++ and C#\"))        "
   ]
  }
 ],
 "metadata": {
  "kernelspec": {
   "display_name": "Python 3",
   "language": "python",
   "name": "python3"
  },
  "language_info": {
   "codemirror_mode": {
    "name": "ipython",
    "version": 3
   },
   "file_extension": ".py",
   "mimetype": "text/x-python",
   "name": "python",
   "nbconvert_exporter": "python",
   "pygments_lexer": "ipython3",
   "version": "3.9.6"
  }
 },
 "nbformat": 4,
 "nbformat_minor": 2
}
