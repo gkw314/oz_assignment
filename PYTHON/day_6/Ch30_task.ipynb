{
 "cells": [
  {
   "cell_type": "markdown",
   "metadata": {},
   "source": [
    "팩토리얼을 계산하는 재귀 함수 factorial을 작성하세요."
   ]
  },
  {
   "cell_type": "markdown",
   "metadata": {},
   "source": []
  },
  {
   "cell_type": "code",
   "execution_count": 3,
   "metadata": {},
   "outputs": [
    {
     "name": "stdout",
     "output_type": "stream",
     "text": [
      "6\n",
      "120\n",
      "1\n",
      "1\n"
     ]
    }
   ],
   "source": [
    "def factorial(n: int) -> int:\n",
    "    if n == 0 or n == 1:  # 기본 조건\n",
    "        return 1\n",
    "    return n * factorial(n - 1)  # 재귀 호출\n",
    "\n",
    "# 팩토리얼: n! = n * (n-1) * (n-2) ... * 1\n",
    "# 예: 5! = 5 * 4 * 3 * 2 * 1 = 120\n",
    "# 재귀 호출: 함수가 자기 자신을 호출하며 계산을 진행\n",
    "# 기본 조건: n이 0 또는 1이면 팩토리얼은 1\n",
    "\n",
    "print(factorial(3))\n",
    "print(factorial(5))\n",
    "print(factorial(1))\n",
    "print(factorial(0))"
   ]
  }
 ],
 "metadata": {
  "kernelspec": {
   "display_name": "Python 3",
   "language": "python",
   "name": "python3"
  },
  "language_info": {
   "codemirror_mode": {
    "name": "ipython",
    "version": 3
   },
   "file_extension": ".py",
   "mimetype": "text/x-python",
   "name": "python",
   "nbconvert_exporter": "python",
   "pygments_lexer": "ipython3",
   "version": "3.9.6"
  }
 },
 "nbformat": 4,
 "nbformat_minor": 2
}
