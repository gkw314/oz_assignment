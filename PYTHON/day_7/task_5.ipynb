{
 "cells": [
  {
   "cell_type": "markdown",
   "metadata": {},
   "source": [
    "datetime 모듈을 사용하여 현재 날짜와 시간을 출력하는 프로그램을 작성하세요. \n",
    "\n",
    "또한, 사용자로부터 태어난 년도를 입력받아 현재 나이를 계산하여 출력하세요."
   ]
  },
  {
   "cell_type": "code",
   "execution_count": 6,
   "metadata": {},
   "outputs": [
    {
     "name": "stdout",
     "output_type": "stream",
     "text": [
      "현재 날짜와 시간: 2025-01-19 22:00:19.339948\n",
      "현재 나이: 27세\n"
     ]
    }
   ],
   "source": [
    "from datetime import datetime\n",
    "\n",
    "def calculate_age():\n",
    "    now = datetime.now()\n",
    "    print(f\"현재 날짜와 시간: {now}\")\n",
    "    try:\n",
    "        birth_year = int(input(\"태어난 년도를 입력하세요: \"))\n",
    "        age = now.year - birth_year\n",
    "        print(f\"현재 나이: {age}세\")\n",
    "\n",
    "    # 잘못된 숫자 입력에 대한 예외처리\n",
    "    ## 시간되면 리팩토링 하면 좋을 것\n",
    "        # 올바른 년도를 입력하는 예외처리\n",
    "        # 12341234 입력하면  -12339209세라고 뜸\n",
    "    ##\n",
    "    except ValueError:\n",
    "        print(\"올바른 숫자를 입력해주세요.\")\n",
    "\n",
    "calculate_age()\n"
   ]
  }
 ],
 "metadata": {
  "kernelspec": {
   "display_name": "Python 3",
   "language": "python",
   "name": "python3"
  },
  "language_info": {
   "codemirror_mode": {
    "name": "ipython",
    "version": 3
   },
   "file_extension": ".py",
   "mimetype": "text/x-python",
   "name": "python",
   "nbconvert_exporter": "python",
   "pygments_lexer": "ipython3",
   "version": "3.9.6"
  }
 },
 "nbformat": 4,
 "nbformat_minor": 2
}
