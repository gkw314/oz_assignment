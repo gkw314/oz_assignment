{
  "cells": [
    {
      "cell_type": "markdown",
      "metadata": {
        "id": "view-in-github",
        "colab_type": "text"
      },
      "source": [
        "<a href=\"https://colab.research.google.com/github/gkw314/oz_assignment/blob/main/Ch17_task.ipynb\" target=\"_parent\"><img src=\"https://colab.research.google.com/assets/colab-badge.svg\" alt=\"Open In Colab\"/></a>"
      ]
    },
    {
      "cell_type": "markdown",
      "metadata": {
        "id": "71GhKlBiCfet"
      },
      "source": [
        "<span style=\"font-size:100%\">\n",
        "\n",
        "수업은 모두 열심히 들으셨나요?\n",
        "\n",
        "간혹 강의에서 언급되지 않은 내용이 문제로 나올 수 있습니다.<br>\n",
        "그럴땐 강의 내용 외 문제는 구글링을 통해 해결해주세요<br></span>\n",
        "<span style=\"font-size:80%\">\n",
        "(구글링 또한 개발자가 갖쳐야할 역량 중에 하나랍니다 😊)\n",
        "</span>\n",
        "\n",
        "---"
      ]
    },
    {
      "cell_type": "markdown",
      "metadata": {
        "id": "xaFQMjEhCfew"
      },
      "source": [
        "<span style=\"font-size:80%\">[문제1]<br><br></span>\n",
        "두 수를 받은 뒤 곱한 결과를 반환하는 oz 함수를 만들어주세요\n"
      ]
    },
    {
      "cell_type": "markdown",
      "metadata": {
        "id": "Ih0k6GO_Cfex"
      },
      "source": [
        "<span style=\"color:red\">답변</span>"
      ]
    },
    {
      "cell_type": "markdown",
      "metadata": {
        "id": "7KC_D84YCfex"
      },
      "source": []
    },
    {
      "cell_type": "code",
      "source": [
        "def oz(num1, num2):\n",
        "    return num1 * num2\n",
        "\n",
        "print(oz(11,2))"
      ],
      "metadata": {
        "colab": {
          "base_uri": "https://localhost:8080/"
        },
        "id": "iwdwwflxEiSK",
        "outputId": "cd7164ff-2316-4b1c-ba6a-adf1e1bd803c"
      },
      "execution_count": 3,
      "outputs": [
        {
          "output_type": "stream",
          "name": "stdout",
          "text": [
            "22\n"
          ]
        }
      ]
    },
    {
      "cell_type": "markdown",
      "metadata": {
        "id": "xytxHcrLCfex"
      },
      "source": [
        "<span style=\"font-size:80%\">[문제2]<br><br></span>\n",
        "```\n",
        "아래 작성된 코드의 실행 결과를 설명해주세요\n",
        "\n",
        "print(\"A\")\n",
        "\n",
        "def message() :\n",
        "    print(\"B\")\n",
        "\n",
        "print(\"C\")\n",
        "\n",
        "message()\n",
        "\n",
        "```"
      ]
    },
    {
      "cell_type": "markdown",
      "metadata": {
        "id": "R90a_lddCfey"
      },
      "source": [
        "<span style=\"color:red\">답변</span>"
      ]
    },
    {
      "cell_type": "code",
      "source": [
        "print(\"A\")\n",
        "\n",
        "def message() :\n",
        "    print(\"B\")\n",
        "\n",
        "print(\"C\")\n",
        "\n",
        "message()\n"
      ],
      "metadata": {
        "colab": {
          "base_uri": "https://localhost:8080/"
        },
        "id": "kXkejxME-cjj",
        "outputId": "8ccd7f86-6951-43d1-a173-17cee714d4e6"
      },
      "execution_count": 4,
      "outputs": [
        {
          "output_type": "stream",
          "name": "stdout",
          "text": [
            "A\n",
            "C\n",
            "B\n"
          ]
        }
      ]
    },
    {
      "cell_type": "markdown",
      "source": [
        "A는 가장 위에서부터 순차적으로 실행되기에 print A출력.  \n",
        "B는 중간에 있기 하지만 함수이므로 message()로 호출 하기전까진 출력되지 않으므로 C가 먼저 출력후 B출력"
      ],
      "metadata": {
        "id": "Pou5mkPc-s-D"
      }
    },
    {
      "cell_type": "markdown",
      "metadata": {
        "id": "ZOEqUwilCfey"
      },
      "source": [
        "----"
      ]
    },
    {
      "cell_type": "markdown",
      "metadata": {
        "id": "9blWkTzpCfey"
      },
      "source": [
        "<span style=\"font-size:80%\">[문제3]<br><br></span>\n",
        "```매개변수가 없는 oz 함수를 호출하는 방법으로 올바른 것을 골라주세요```\n",
        "\n",
        "1. def oz\n",
        "2. oz\n",
        "3. oz( )\n",
        "4. oz[ ]\n",
        "5. def oz:"
      ]
    },
    {
      "cell_type": "markdown",
      "metadata": {
        "id": "tlSqTllmCfez"
      },
      "source": [
        "<span style=\"color:red\">답변</span>"
      ]
    },
    {
      "cell_type": "markdown",
      "metadata": {
        "id": "sCRl8-UpCfez"
      },
      "source": [
        "3번"
      ]
    },
    {
      "cell_type": "markdown",
      "metadata": {
        "id": "J3cgba94Cfez"
      },
      "source": [
        "----"
      ]
    },
    {
      "cell_type": "markdown",
      "metadata": {
        "id": "6h2uoVNeCfez"
      },
      "source": [
        "<span style=\"font-size:80%\">[문4]<br><br></span>\n",
        "```문자열 하나를 입력받아 인터넷 주소를 반환하는 make_url 함수를 만들어주세요```\n",
        "\n",
        "예 ) make_url(\"google\")\n",
        "\n",
        "출력 : www.google.com"
      ]
    },
    {
      "cell_type": "markdown",
      "metadata": {
        "id": "n84NgPjdCfez"
      },
      "source": [
        "<span style=\"color:red\">답변</span>"
      ]
    },
    {
      "cell_type": "markdown",
      "metadata": {
        "id": "atNlYOGFCfez"
      },
      "source": []
    },
    {
      "cell_type": "code",
      "source": [
        "def make_url(site):\n",
        "    return \"www.\" + site + \".com\"\n",
        "\n",
        "print(make_url(\"google\"))"
      ],
      "metadata": {
        "colab": {
          "base_uri": "https://localhost:8080/"
        },
        "id": "60ppwdSn_WQo",
        "outputId": "9bd92408-64db-4df7-a3f2-2052460faee6"
      },
      "execution_count": 5,
      "outputs": [
        {
          "output_type": "stream",
          "name": "stdout",
          "text": [
            "www.google.com\n"
          ]
        }
      ]
    },
    {
      "cell_type": "markdown",
      "metadata": {
        "id": "l5j2tMHQCfe0"
      },
      "source": [
        "----"
      ]
    },
    {
      "cell_type": "markdown",
      "metadata": {
        "id": "N_ijZNtrCfe0"
      },
      "source": [
        "<span style=\"font-size:80%\">[문제5]<br><br></span>\n",
        "```아래 코드를 실행했을때 c의 값으로 올바른 것을 골라주세요```\n",
        "\n",
        "def 함수0(num) :<br>\n",
        "&emsp;&emsp;return num * 2<br>\n",
        "\n",
        "def 함수1(num) :<br>\n",
        "&emsp;&emsp;return 함수0(num + 2)<br>\n",
        "\n",
        "def 함수2(num) :<br>\n",
        "&emsp;&emsp;num = num + 10<br>\n",
        "&emsp;&emsp;return 함수1(num)<br>\n",
        "\n",
        "c = 함수2(2)<br>\n",
        "print(c)\n",
        "\n",
        "\n",
        "1. 1\n",
        "2. 5\n",
        "3. 3\n",
        "4. 4\n",
        "5. 28"
      ]
    },
    {
      "cell_type": "markdown",
      "metadata": {
        "id": "B98f_KaBCfe0"
      },
      "source": [
        "<span style=\"color:red\">답변</span>"
      ]
    },
    {
      "cell_type": "markdown",
      "metadata": {
        "id": "P5SZ4hHYCfe0"
      },
      "source": [
        "5번"
      ]
    },
    {
      "cell_type": "code",
      "source": [
        "def 함수0(num) :\n",
        "    return num * 2\n",
        "\n",
        "def 함수1(num) :\n",
        "    return 함수0(num + 2)\n",
        "\n",
        "def 함수2(num) :\n",
        "    num = num + 10\n",
        "    return 함수1(num)\n",
        "\n",
        "c = 함수2(2)\n",
        "print(c)"
      ],
      "metadata": {
        "colab": {
          "base_uri": "https://localhost:8080/"
        },
        "id": "zRXct2To_nSV",
        "outputId": "d088a491-dccc-4b4d-de14-a11b473fe5ce"
      },
      "execution_count": 6,
      "outputs": [
        {
          "output_type": "stream",
          "name": "stdout",
          "text": [
            "28\n"
          ]
        }
      ]
    },
    {
      "cell_type": "markdown",
      "metadata": {
        "id": "8BIaQu1oCfe0"
      },
      "source": [
        "----"
      ]
    }
  ],
  "metadata": {
    "language_info": {
      "name": "python"
    },
    "colab": {
      "provenance": [],
      "include_colab_link": true
    },
    "kernelspec": {
      "name": "python3",
      "display_name": "Python 3"
    }
  },
  "nbformat": 4,
  "nbformat_minor": 0
}