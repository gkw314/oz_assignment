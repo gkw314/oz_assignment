{
  "cells": [
    {
      "cell_type": "markdown",
      "metadata": {
        "id": "view-in-github",
        "colab_type": "text"
      },
      "source": [
        "<a href=\"https://colab.research.google.com/github/gkw314/oz_assignment/blob/main/Ch20_task.ipynb\" target=\"_parent\"><img src=\"https://colab.research.google.com/assets/colab-badge.svg\" alt=\"Open In Colab\"/></a>"
      ]
    },
    {
      "cell_type": "markdown",
      "metadata": {
        "id": "A-hlEEEHXRsN"
      },
      "source": [
        "<span style=\"font-size:100%\">\n",
        "\n",
        "수업은 모두 열심히 들으셨나요?\n",
        "\n",
        "간혹 강의에서 언급되지 않은 내용이 문제로 나올 수 있습니다.<br>\n",
        "그럴땐 강의 내용 외 문제는 구글링을 통해 해결해주세요<br></span>\n",
        "<span style=\"font-size:80%\">\n",
        "(구글링 또한 개발자가 갖쳐야할 역량 중에 하나랍니다 😊)\n",
        "</span>\n",
        "\n",
        "---"
      ]
    },
    {
      "cell_type": "markdown",
      "metadata": {
        "id": "oJr5DOuBXRsP"
      },
      "source": [
        "<span style=\"font-size:80%\">[문제1]<br><br></span>\n",
        "```다음 중 예외 처리에 대한 설명으로 잘못된 것을 모두 골라주세요```\n",
        "\n",
        "1. try의 코드에서 예외가 발생하면 except가 실행된다.\n",
        "2. 예외는 현재 함수의 코드 블록에서만 처리할 수 있다.\n",
        "3. try의 코드에서 예외가 발생하더라도 except가 실행되면 스크립트는 중단되지 않는다.\n",
        "4. try, except, else에서 예외가 발생하지 않으면 else가 실행된다.\n",
        "5. finally는 예외가 발생하면 실행되지 않는다."
      ]
    },
    {
      "cell_type": "markdown",
      "metadata": {
        "id": "ctFdVSWuXRsQ"
      },
      "source": [
        "<span style=\"color:red\">답변</span>"
      ]
    },
    {
      "cell_type": "markdown",
      "metadata": {
        "id": "G095r8JXXRsQ"
      },
      "source": [
        "2,3번"
      ]
    },
    {
      "cell_type": "markdown",
      "metadata": {
        "id": "-pdK8VysXRsQ"
      },
      "source": [
        "----"
      ]
    },
    {
      "cell_type": "markdown",
      "metadata": {
        "id": "sQRZ-MJ2XRsR"
      },
      "source": [
        "<span style=\"font-size:80%\">[문제2]<br><br></span>\n",
        "```예외를 임의로 발생 시키는 명령어를 골라주세요```\n",
        "\n",
        "1. else\n",
        "2. raising\n",
        "3. except\n",
        "4. ZeroDivisionError\n",
        "5. raise"
      ]
    },
    {
      "cell_type": "markdown",
      "metadata": {
        "id": "4Me4aWpQXRsR"
      },
      "source": [
        "<span style=\"color:red\">답변</span>"
      ]
    },
    {
      "cell_type": "markdown",
      "metadata": {
        "id": "sgsHBSq3XRsR"
      },
      "source": [
        "5번"
      ]
    },
    {
      "cell_type": "markdown",
      "metadata": {
        "id": "C33dasdyXRsR"
      },
      "source": [
        "----"
      ]
    },
    {
      "cell_type": "markdown",
      "metadata": {
        "id": "0c46luD5XRsR"
      },
      "source": [
        "<span style=\"font-size:80%\">[문제3]<br><br></span>\n",
        "```인덱스의 범위를 벗어났을 때 발생하는 에러에 대한 예외처리를 담당하는 코드를 골라주세요```\n",
        "\n",
        "1. TypeError\n",
        "2. IndexError\n",
        "3. ZeroDivisionError\n",
        "4. KeyError\n",
        "5. SyntaxError"
      ]
    },
    {
      "cell_type": "markdown",
      "metadata": {
        "id": "HygPccIJXRsS"
      },
      "source": [
        "<span style=\"color:red\">답변</span>"
      ]
    },
    {
      "cell_type": "markdown",
      "metadata": {
        "id": "pY-sHmhYXRsS"
      },
      "source": [
        "2번"
      ]
    },
    {
      "cell_type": "markdown",
      "metadata": {
        "id": "Xy92lLovXRsS"
      },
      "source": [
        "----"
      ]
    }
  ],
  "metadata": {
    "language_info": {
      "name": "python"
    },
    "colab": {
      "provenance": [],
      "include_colab_link": true
    }
  },
  "nbformat": 4,
  "nbformat_minor": 0
}