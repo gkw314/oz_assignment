{
  "cells": [
    {
      "cell_type": "markdown",
      "metadata": {
        "id": "view-in-github",
        "colab_type": "text"
      },
      "source": [
        "<a href=\"https://colab.research.google.com/github/gkw314/oz_assignment/blob/main/Chapter1720_%E1%84%80%E1%85%AA%E1%84%8C%E1%85%A6(cs).ipynb\" target=\"_parent\"><img src=\"https://colab.research.google.com/assets/colab-badge.svg\" alt=\"Open In Colab\"/></a>"
      ]
    },
    {
      "cell_type": "markdown",
      "metadata": {
        "id": "WXEwMsfUct7U"
      },
      "source": [
        "컴퓨터 기초 지식을 의미하는 CS(Computer science)는<br>\n",
        "코딩 테스트와 함께 기술 면접에서 지원자에게 필수적으로 요구합니다.<br>\n",
        "\n",
        "수업 내용 중 기술 면접에 자주 나오는 질문 3가지와 기본적으로 알아야 할 내용 과제로 선정했습니다.<br>\n",
        "\n",
        "관련 내용에 대해서는 구글링 또는 관련 서적을 통해 상세히 공부하시고<br>\n",
        "답변은 최대한 핵심만 담아 간결하게 작성해주세요<br>\n",
        "\n",
        "기술 블로그를 운영 중이신 경우<br>\n",
        "답변 내용을 기술 블로그에 작성하신 후 링크를 답변에 남겨주셔도 됩니다.<br>"
      ]
    },
    {
      "cell_type": "markdown",
      "metadata": {
        "id": "qoyC9wF-3hvs"
      },
      "source": [
        "-----"
      ]
    },
    {
      "cell_type": "markdown",
      "metadata": {
        "id": "rAD_O3Gmc_43"
      },
      "source": [
        "[문제1]\n",
        "\n",
        "객체지향에 대해서 설명해주세요"
      ]
    },
    {
      "cell_type": "markdown",
      "metadata": {
        "id": "gVRpELfsX1oV"
      },
      "source": [
        "객체지향 프로그래밍이란 많은 객체들이 모여서 상호 협력하면서 데이터를 처리하는 방식의 프로그래밍 설계 방법을 말한다.   \n",
        "프로그램을 묶음 단위로 잘게 쪼개서, 추후에 가져다 쓰기 편하게 만들어 놓은 프로그래밍 방식이다.   \n",
        "프로그램을 보다 유연하고 변경이 용이하게 만들 수 있다.   \n",
        "캡슐화, 상속, 다형성, 추상화 같은 특징이 있다.   \n"
      ]
    },
    {
      "cell_type": "markdown",
      "metadata": {
        "id": "912ZT0BjX1oV"
      },
      "source": [
        "---"
      ]
    },
    {
      "cell_type": "markdown",
      "metadata": {
        "id": "3uK_auXYdgk2"
      },
      "source": [
        "[문제2]\n",
        "\n",
        "init 메소드에 대해 설명해주세요"
      ]
    },
    {
      "cell_type": "markdown",
      "source": [
        "__init__메소드는 파이썬에서 클래스의 생성자 메소드이다.   \n",
        "클래스 인스턴스를 생성할 때 자동으로 호출되며, 인스턴스가 생성될 때 초기화 작업을 수행하는 메소드이다.  \n",
        "\n",
        "첫 번째 매개변수로 self를 사용한다. self를 통해 인스턴스 변수를 초기화하고, 필요한 경우 다른 초기화 작업을 수행할 수 있다."
      ],
      "metadata": {
        "id": "FHaxlUxzfEMR"
      }
    },
    {
      "cell_type": "markdown",
      "source": [
        "\n",
        "\n",
        "---\n",
        "\n"
      ],
      "metadata": {
        "id": "S3mUr0MAfjop"
      }
    },
    {
      "cell_type": "markdown",
      "metadata": {
        "id": "5FLQGM5zX1oW"
      },
      "source": [
        "[문제3]\n",
        "\n",
        "클래스 상속에 대해 설명해주세요"
      ]
    },
    {
      "cell_type": "markdown",
      "metadata": {
        "id": "X4kdGtx4X1oW"
      },
      "source": [
        "클래스 상속은 말 그대로 물려주는 부모 클래스의 내용을 자식 클래스가 물려 받는 것이다.    \n",
        "물려받은 클래스는 재사용하거나 확장하고 중복을 최소화한다.   \n",
        "\n"
      ]
    },
    {
      "cell_type": "markdown",
      "metadata": {
        "id": "5k6rIgQlX1oW"
      },
      "source": [
        "\n",
        "\n",
        "---\n",
        "\n"
      ]
    },
    {
      "cell_type": "markdown",
      "metadata": {
        "id": "OlnGK0XQX1oW"
      },
      "source": [
        "[문제4]\n",
        "\n",
        "클래스 다중 상속과 관련된 MRO에 대해 설명해주세요"
      ]
    },
    {
      "cell_type": "markdown",
      "metadata": {
        "id": "4gmQ5x6eX1oX"
      },
      "source": [
        "MRO(Method Resolution Order)는 다중 상속 시 메서드나 속성을 어떤 순서로 검색할지를 결정하는 규칙을 의미한다.    \n",
        "MRO(Method Resolution Order)는 C3 선형화 알고리즘을 기반으로 결정된다.   \n",
        "   \n",
        "\n",
        "\n",
        "C3 선형화 알고리즘:    \n",
        "객체지향 프로그래밍에서 클래스의 상속 순서를 결정하는 알고리즘   \n",
        "주요목적: 모호성을 제거하고, 예측 가능한 메서드 해상도 순서를 제공하는 것"
      ]
    },
    {
      "cell_type": "markdown",
      "metadata": {
        "id": "Rq1e_1vMX1oX"
      },
      "source": [
        "\n",
        "\n",
        "---\n",
        "\n"
      ]
    },
    {
      "cell_type": "markdown",
      "metadata": {
        "id": "GgDOO-kgX1oX"
      },
      "source": [
        "[문제5]\n",
        "\n",
        "Self는 어떤 키워드 인가요?"
      ]
    },
    {
      "cell_type": "markdown",
      "metadata": {
        "id": "aU4PuG9GX1oX"
      },
      "source": [
        "Self는 클래스 메소드의 첫 번째 인자로 전달되는 변수로 해당 함수를 호출한 객체를 가리킨다.   \n",
        "클래스에서 현재 인스턴스 객체를 참조한다."
      ]
    },
    {
      "cell_type": "markdown",
      "source": [
        "\n",
        "\n",
        "---\n",
        "\n"
      ],
      "metadata": {
        "id": "65SnRImdkUA2"
      }
    },
    {
      "cell_type": "markdown",
      "metadata": {
        "id": "R32aWk5OX1oX"
      },
      "source": [
        "[문제6]\n",
        "\n",
        "ZeroDivisionError,  IndexError 외에 3가지 이상의 파이썬 에러에 대해 설명해주세요"
      ]
    },
    {
      "cell_type": "markdown",
      "metadata": {
        "id": "PuQRXQLPX1oX"
      },
      "source": [
        "NameError: 로컬 또는 글로벌 변수의 이름을 찾을 수 없을 때 발생.    \n",
        "SyntaxError: 프로그램 구문이 잘못 쓰였을 경우 발생    \n",
        "TypeError: 잘못된 타입의 연산이나 함수 호출 시 발생.\n"
      ]
    }
  ],
  "metadata": {
    "colab": {
      "provenance": [],
      "include_colab_link": true
    },
    "kernelspec": {
      "display_name": "Python 3",
      "name": "python3"
    },
    "language_info": {
      "name": "python"
    }
  },
  "nbformat": 4,
  "nbformat_minor": 0
}