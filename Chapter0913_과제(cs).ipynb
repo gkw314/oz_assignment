{
  "cells": [
    {
      "cell_type": "markdown",
      "metadata": {
        "id": "view-in-github",
        "colab_type": "text"
      },
      "source": [
        "<a href=\"https://colab.research.google.com/github/gkw314/oz_assignment/blob/main/Chapter0913_%E1%84%80%E1%85%AA%E1%84%8C%E1%85%A6(cs).ipynb\" target=\"_parent\"><img src=\"https://colab.research.google.com/assets/colab-badge.svg\" alt=\"Open In Colab\"/></a>"
      ]
    },
    {
      "cell_type": "markdown",
      "metadata": {
        "id": "WXEwMsfUct7U"
      },
      "source": [
        "컴퓨터 기초 지식을 의미하는 CS(Computer science)는<br>\n",
        "코딩 테스트와 함께 기술 면접에서 지원자에게 필수적으로 요구합니다.<br>\n",
        "\n",
        "수업 내용 중 기술 면접에 자주 나오는 질문 3가지와 기본적으로 알아야 할 내용 과제로 선정했습니다.<br>\n",
        "\n",
        "관련 내용에 대해서는 구글링 또는 관련 서적을 통해 상세히 공부하시고<br>\n",
        "답변은 최대한 핵심만 담아 간결하게 작성해주세요<br>\n",
        "\n",
        "기술 블로그를 운영 중이신 경우<br>\n",
        "답변 내용을 기술 블로그에 작성하신 후 링크를 답변에 남겨주셔도 됩니다.<br>"
      ]
    },
    {
      "cell_type": "markdown",
      "metadata": {
        "id": "qoyC9wF-3hvs"
      },
      "source": [
        "-----"
      ]
    },
    {
      "cell_type": "markdown",
      "metadata": {
        "id": "rAD_O3Gmc_43"
      },
      "source": [
        "[문제1]\n",
        "\n",
        "list와 tuple의 주된 차이점은 무엇인가요?"
      ]
    },
    {
      "cell_type": "markdown",
      "metadata": {
        "id": "kQKggkCiAXJP"
      },
      "source": [
        "list는 가변성 tuple은 불변성입니다.\n",
        "list는 요소가 생성 된 후 추가, 삭제, 수정이 가능한 반면 tuple은 요소가 한번 생성된 후에는 추가, 삭제, 수정 등 변경이 불가합니다."
      ]
    },
    {
      "cell_type": "markdown",
      "metadata": {
        "id": "TL9-ESU2AXJP"
      },
      "source": [
        "---"
      ]
    },
    {
      "cell_type": "markdown",
      "metadata": {
        "id": "3uK_auXYdgk2"
      },
      "source": [
        "[문제2]\n",
        "\n",
        "Python의 set에 대해 설명해주세요"
      ]
    },
    {
      "cell_type": "markdown",
      "metadata": {
        "id": "8WNNsu28AXJP"
      },
      "source": [
        "세트는 집합과 관련된 것을 쉽게 처리하기 위해 만든 자료형이다.  \n",
        "세트는 set()함수를 이용해 사용하거나 중괄호를 이용해 사용할 수 있다.  \n",
        "세트의 특징으로는 중복을 허용하지 않는다. 그리고 순서가 없다.\n",
        "리스트와 튜플은 순서가 있기에 인덱싱을 통해 자료형의 값을  얻지만, 세트는 순서가 없기에 인덱싱으로 값을 얻을 수 없다.   \n",
        " 그러면 세트를 왜 쓰는가?   \n",
        "교집합, 합집합, 차집합을 구할 때 유용하게 사용할 수 있기 때문이다.\n"
      ]
    },
    {
      "cell_type": "markdown",
      "metadata": {
        "id": "VzqmL1z7AXJQ"
      },
      "source": [
        "---"
      ]
    },
    {
      "cell_type": "markdown",
      "metadata": {
        "id": "wnY_xKZXAXJQ"
      },
      "source": [
        "[문제3]\n",
        "\n",
        "Python의 list는 연결리스트(linked list)인가요?"
      ]
    },
    {
      "cell_type": "markdown",
      "metadata": {
        "id": "urcUyaW2AXJQ"
      },
      "source": [
        "\n",
        "파이썬 리스트는 연결리스트가 아니다.  \n",
        "파이썬의 리스트는 동적배열이다.  \n",
        "연결리스트는 추상자료형을 구현할 때 기반이 되는 기초 선형 자료 구조이다.   \n",
        "각 노드가 데이터와 포인터를 가지고 한 줄로 연결되어 있는 방식으로 데이터를 저장한다.\n",
        "\n"
      ]
    },
    {
      "cell_type": "markdown",
      "metadata": {
        "id": "MZDXB8NZAXJQ"
      },
      "source": [
        "---"
      ]
    },
    {
      "cell_type": "markdown",
      "metadata": {
        "id": "Fdq88MgaAXJR"
      },
      "source": [
        "\n",
        "[문제4]\n",
        "\n",
        "딕셔너리 자료형에 대해 설명해주세요."
      ]
    },
    {
      "cell_type": "markdown",
      "metadata": {
        "id": "ZhyW_7EYAXJR"
      },
      "source": [
        "딕셔너리는 key와 value를 한 쌍으로 가지는 자료형이다.   \n",
        "리스트나 튜플처럼 순차적으로 해당 요솟값을 구하지 않고 key를 통해 value얻는 것이 특징이다.   \n",
        "데이터를 특정 키와 값을 한 쌍으로 이루어 순서 상관없이 키를 이용해서 바로 값에 접근이 가능하다.   \n",
        "주의할 점은 키 값에서는 리스트, 세트가 올 수 없다.\n",
        "키 값은 중복 될 수 없다."
      ]
    },
    {
      "cell_type": "markdown",
      "metadata": {
        "id": "s_I7IHQWAXJR"
      },
      "source": [
        "---"
      ]
    }
  ],
  "metadata": {
    "colab": {
      "provenance": [],
      "include_colab_link": true
    },
    "kernelspec": {
      "display_name": "Python 3",
      "name": "python3"
    },
    "language_info": {
      "name": "python"
    }
  },
  "nbformat": 4,
  "nbformat_minor": 0
}