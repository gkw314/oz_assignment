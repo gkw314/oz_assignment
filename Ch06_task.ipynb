{
  "cells": [
    {
      "cell_type": "markdown",
      "metadata": {
        "id": "view-in-github",
        "colab_type": "text"
      },
      "source": [
        "<a href=\"https://colab.research.google.com/github/gkw314/oz_assignment/blob/main/Ch06_task.ipynb\" target=\"_parent\"><img src=\"https://colab.research.google.com/assets/colab-badge.svg\" alt=\"Open In Colab\"/></a>"
      ]
    },
    {
      "cell_type": "markdown",
      "metadata": {
        "id": "Yr-wDDBPYre9"
      },
      "source": [
        "<span style=\"font-size:100%\">\n",
        "\n",
        "수업은 모두 열심히 들으셨나요?\n",
        "\n",
        "간혹 강의에서 언급되지 않은 내용이 문제로 나올 수 있습니다.<br>\n",
        "그럴땐 강의 내용 외 문제는 구글링을 통해 해결해주세요<br></span>\n",
        "<span style=\"font-size:80%\">\n",
        "(구글링 또한 개발자가 갖쳐야할 역량 중에 하나랍니다 😊)\n",
        "</span>\n",
        "\n",
        "---"
      ]
    },
    {
      "cell_type": "markdown",
      "metadata": {
        "id": "AEULD8TaYre-"
      },
      "source": [
        "<span style=\"font-size:80%\">[문제1]<br><br></span>\n",
        "```실수를 정수로 만드는 식으로 올바른 것을 고르세요```\n",
        "\n",
        "1. str(3.5)\n",
        "2. int(3.5)\n",
        "3. float(3.5)"
      ]
    },
    {
      "cell_type": "markdown",
      "metadata": {
        "id": "ac4AIUdUYre-"
      },
      "source": [
        "<span style=\"color:red\">답변</span>"
      ]
    },
    {
      "cell_type": "markdown",
      "metadata": {
        "id": "xeuCdhRSYre_"
      },
      "source": [
        "2번"
      ]
    },
    {
      "cell_type": "code",
      "source": [
        "# str(3.5)\n",
        "int(3.5)\n",
        "# float(3.5)"
      ],
      "metadata": {
        "colab": {
          "base_uri": "https://localhost:8080/"
        },
        "id": "Q3DSoADdKdSh",
        "outputId": "eca9a524-0125-4bd8-d90a-825bc3a2031d"
      },
      "execution_count": 3,
      "outputs": [
        {
          "output_type": "execute_result",
          "data": {
            "text/plain": [
              "3"
            ]
          },
          "metadata": {},
          "execution_count": 3
        }
      ]
    },
    {
      "cell_type": "markdown",
      "metadata": {
        "id": "TE8GL7lDYre_"
      },
      "source": [
        "----"
      ]
    },
    {
      "cell_type": "markdown",
      "metadata": {
        "id": "A3vmp1JiYre_"
      },
      "source": [
        "<span style=\"font-size:80%\">[문제2]<br><br></span>\n",
        "```실수 3.5의 type과 동일한 것을 고르세요```\n",
        "\n",
        "1. float(17//3)\n",
        "2. int(10)-9\n",
        "3. float11/2\n",
        "4. float(10)-2"
      ]
    },
    {
      "cell_type": "markdown",
      "metadata": {
        "id": "CHpGPViAYre_"
      },
      "source": [
        "<span style=\"color:red\">답변</span>"
      ]
    },
    {
      "cell_type": "markdown",
      "metadata": {
        "id": "qTLf9RuMYrfA"
      },
      "source": [
        "float"
      ]
    },
    {
      "cell_type": "code",
      "source": [
        "# float(17//3)\n",
        "# int(10)-9\n",
        "# float(11/2)\n",
        "# float(10)-2"
      ],
      "metadata": {
        "id": "caqi3LU6K1ce"
      },
      "execution_count": 8,
      "outputs": []
    },
    {
      "cell_type": "markdown",
      "metadata": {
        "id": "QZ2-_cnsYrfA"
      },
      "source": [
        "----"
      ]
    },
    {
      "cell_type": "markdown",
      "metadata": {
        "id": "bLyjQXPkYrfA"
      },
      "source": [
        "<span style=\"font-size:80%\">[문제3]<br><br></span>\n",
        "```type(3.0 + 7.0)의 결과로 올바른 것을 고르세요```\n",
        "\n",
        "1. 10\n",
        "2. 10.0\n",
        "3. int\n",
        "4. float"
      ]
    },
    {
      "cell_type": "markdown",
      "metadata": {
        "id": "TJ_LWP9qYrfA"
      },
      "source": [
        "<span style=\"color:red\">답변</span>"
      ]
    },
    {
      "cell_type": "markdown",
      "metadata": {
        "id": "dmlEBgTwYrfB"
      },
      "source": [
        "2번"
      ]
    },
    {
      "cell_type": "markdown",
      "metadata": {
        "id": "TKeC2S67YrfB"
      },
      "source": [
        "----"
      ]
    },
    {
      "cell_type": "markdown",
      "metadata": {
        "id": "TKa-RfnHYrfB"
      },
      "source": [
        "<span style=\"font-size:80%\">[문제4]<br><br></span>\n",
        "```float(5)의 결과로 올바른 것을 고르세요```\n",
        "\n",
        "1. 5\n",
        "2. `<class float>`\n",
        "3. 5.0\n",
        "4. type error"
      ]
    },
    {
      "cell_type": "markdown",
      "metadata": {
        "id": "yiizGaIDYrfB"
      },
      "source": [
        "<span style=\"color:red\">답변</span>"
      ]
    },
    {
      "cell_type": "markdown",
      "metadata": {
        "id": "4ys5s7rLYrfB"
      },
      "source": [
        "3번"
      ]
    },
    {
      "cell_type": "markdown",
      "metadata": {
        "id": "muIwFtfgYrfB"
      },
      "source": [
        "----"
      ]
    },
    {
      "cell_type": "markdown",
      "metadata": {
        "id": "3dpvIZXJYrfB"
      },
      "source": [
        "<span style=\"font-size:80%\">[문제5]<br><br></span>\n",
        "```int(13 / 2)의 결과로 올바른 것을 고르세요```\n",
        "\n",
        "1. 6.5\n",
        "2. 1\n",
        "3. 6\n",
        "4. 6.0"
      ]
    },
    {
      "cell_type": "markdown",
      "metadata": {
        "id": "Cagy_SJuYrfB"
      },
      "source": [
        "<span style=\"color:red\">답변</span>"
      ]
    },
    {
      "cell_type": "markdown",
      "metadata": {
        "id": "rrVLOz7HYrfB"
      },
      "source": [
        "3번"
      ]
    },
    {
      "cell_type": "code",
      "source": [
        "int(13 / 2)"
      ],
      "metadata": {
        "colab": {
          "base_uri": "https://localhost:8080/"
        },
        "id": "674xKSFSLrcP",
        "outputId": "314e6270-5f60-4fa2-d923-6bd0c6c659f4"
      },
      "execution_count": 9,
      "outputs": [
        {
          "output_type": "execute_result",
          "data": {
            "text/plain": [
              "6"
            ]
          },
          "metadata": {},
          "execution_count": 9
        }
      ]
    }
  ],
  "metadata": {
    "language_info": {
      "name": "python"
    },
    "colab": {
      "provenance": [],
      "include_colab_link": true
    },
    "kernelspec": {
      "name": "python3",
      "display_name": "Python 3"
    }
  },
  "nbformat": 4,
  "nbformat_minor": 0
}