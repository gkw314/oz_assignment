{
  "cells": [
    {
      "cell_type": "markdown",
      "metadata": {
        "id": "view-in-github",
        "colab_type": "text"
      },
      "source": [
        "<a href=\"https://colab.research.google.com/github/gkw314/oz_assignment/blob/main/Ch12_task.ipynb\" target=\"_parent\"><img src=\"https://colab.research.google.com/assets/colab-badge.svg\" alt=\"Open In Colab\"/></a>"
      ]
    },
    {
      "cell_type": "markdown",
      "metadata": {
        "id": "jOEOdfe19snE"
      },
      "source": [
        "<span style=\"font-size:100%\">\n",
        "\n",
        "수업은 모두 열심히 들으셨나요?\n",
        "\n",
        "간혹 강의에서 언급되지 않은 내용이 문제로 나올 수 있습니다.<br>\n",
        "그럴땐 강의 내용 외 문제는 구글링을 통해 해결해주세요<br></span>\n",
        "<span style=\"font-size:80%\">\n",
        "(구글링 또한 개발자가 갖쳐야할 역량 중에 하나랍니다 😊)\n",
        "</span>\n",
        "\n",
        "---"
      ]
    },
    {
      "cell_type": "markdown",
      "metadata": {
        "id": "rfAtJREt9snG"
      },
      "source": [
        "<span style=\"font-size:80%\">[문제1]<br><br></span>\n",
        "딕셔너리 x에서 키에 해당하는 값을 모두 삭제하는 방법으로 옳은 것을 모두 골라주세요\n",
        "\n",
        "x = {'banana':3000, 'apple':1500, 'orange':2000}\n",
        "\n",
        "1. x.pop('apple')\n",
        "2. x.remove('python')\n",
        "3. del x['orange']\n",
        "4. x.popitem()"
      ]
    },
    {
      "cell_type": "markdown",
      "metadata": {
        "id": "DkiWY3Id9snG"
      },
      "source": [
        "<span style=\"color:red\">답변</span>"
      ]
    },
    {
      "cell_type": "markdown",
      "metadata": {
        "id": "DC_rH06b9snH"
      },
      "source": [
        "1번, 3번"
      ]
    },
    {
      "cell_type": "code",
      "source": [
        "x = {'banana':3000, 'apple':1500, 'orange':2000}\n",
        "del x['orange']\n",
        "\n",
        "print(x)"
      ],
      "metadata": {
        "colab": {
          "base_uri": "https://localhost:8080/"
        },
        "id": "KIUpkSSt9xmc",
        "outputId": "862d4a1d-a1e6-4082-f04b-ffa7e2d06efb"
      },
      "execution_count": 3,
      "outputs": [
        {
          "output_type": "stream",
          "name": "stdout",
          "text": [
            "{'banana': 3000, 'apple': 1500}\n"
          ]
        }
      ]
    },
    {
      "cell_type": "code",
      "source": [
        "x = {'banana':3000, 'apple':1500, 'orange':2000}\n",
        "x.pop('apple')\n",
        "\n",
        "print(x)"
      ],
      "metadata": {
        "colab": {
          "base_uri": "https://localhost:8080/"
        },
        "id": "qQlIk9xB-AP3",
        "outputId": "12ca26dc-1410-4514-b8b0-3b2836b7aa9c"
      },
      "execution_count": 4,
      "outputs": [
        {
          "output_type": "stream",
          "name": "stdout",
          "text": [
            "{'banana': 3000, 'orange': 2000}\n"
          ]
        }
      ]
    },
    {
      "cell_type": "markdown",
      "metadata": {
        "id": "zQlsPoa69snH"
      },
      "source": [
        "----"
      ]
    },
    {
      "cell_type": "markdown",
      "metadata": {
        "id": "cY3zP5wy9snH"
      },
      "source": [
        "<span style=\"font-size:80%\">[문제2]<br><br></span>\n",
        "딕셔너리의 메서드에 대한 설명으로 올바르지 않은 것을 모두 고르세요<br>\n",
        "\n",
        "1. setdefault는 키만 지정하면 값은 0으로 저장한다.\n",
        "2. update는 딕셔너리에서 키의 value 값을 수정한다.\n",
        "3. keys는 딕셔너리의 키-값 쌍을 모두 가져온다.\n",
        "4. clear는 딕셔너리의 모든 키-값 쌍을 삭제한다.\n",
        "5. setdefault에 키와 값을 넣어 실행하면 기존 딕셔너리에 없는 키값일 경우 키-값 쌍을 추가한다."
      ]
    },
    {
      "cell_type": "markdown",
      "metadata": {
        "id": "_ajFY5IY9snH"
      },
      "source": [
        "<span style=\"color:red\">답변</span>"
      ]
    },
    {
      "cell_type": "markdown",
      "metadata": {
        "id": "Q1w3RMPx9snI"
      },
      "source": [
        "1번, 3번"
      ]
    },
    {
      "cell_type": "markdown",
      "metadata": {
        "id": "1dd-Nqkg9snI"
      },
      "source": [
        "----"
      ]
    },
    {
      "cell_type": "markdown",
      "metadata": {
        "id": "_O5RZzUj9snI"
      },
      "source": [
        "<span style=\"font-size:80%\">[문제3]<br><br></span>\n",
        "평균 점수를 구하는 코드를 result 변수에 작성해주세요\n",
        "\n",
        "```\n",
        "ozkim = { \"국어\" : 90, \"'수학\" : 80, \"과학\" : 82, \"영어\" : 72 }\n",
        "result =\n",
        "print(result)\n",
        "```"
      ]
    },
    {
      "cell_type": "markdown",
      "metadata": {
        "id": "8LwrkB2L9snI"
      },
      "source": [
        "<span style=\"color:red\">답변</span>"
      ]
    },
    {
      "cell_type": "markdown",
      "metadata": {
        "id": "yaYqVvFd9snJ"
      },
      "source": []
    },
    {
      "cell_type": "code",
      "source": [
        "ozkim = { \"국어\" : 90, \"'수학\" : 80, \"과학\" : 82, \"영어\" : 72 }\n",
        "result = sum(ozkim.values())/len(ozkim)\n",
        "print(result)"
      ],
      "metadata": {
        "colab": {
          "base_uri": "https://localhost:8080/"
        },
        "id": "9upvDKAT-NNd",
        "outputId": "b40d1be2-951d-42ed-c6b4-54f985d0839c"
      },
      "execution_count": 5,
      "outputs": [
        {
          "output_type": "stream",
          "name": "stdout",
          "text": [
            "81.0\n"
          ]
        }
      ]
    },
    {
      "cell_type": "markdown",
      "metadata": {
        "id": "y-6ZWay89snJ"
      },
      "source": [
        "----"
      ]
    },
    {
      "cell_type": "markdown",
      "metadata": {
        "id": "8DaanlLR9snJ"
      },
      "source": [
        "<span style=\"font-size:80%\">[문제4]<br><br></span>\n",
        "상자 딕셔너리에 아래 데이터를 추가하는 코드를 작성해 주세요\n",
        "\n",
        "```\n",
        "상자 = {\"아디다스\": [\"신발\", \"2개\"],\n",
        "            \"나이키\": [\"모자\", \"5개\"],\n",
        "            \"뉴발란스\": [\"가방\", \"1개\"]}\n",
        "````\n",
        "\n",
        "입력할 데이터 : 칼하트 / 후드티 / 2벌"
      ]
    },
    {
      "cell_type": "markdown",
      "metadata": {
        "id": "PH7c0ifO9snJ"
      },
      "source": [
        "<span style=\"color:red\">답변</span>"
      ]
    },
    {
      "cell_type": "markdown",
      "metadata": {
        "id": "K0oi_AW69snJ"
      },
      "source": []
    },
    {
      "cell_type": "code",
      "source": [
        "상자 = {\"아디다스\": [\"신발\", \"2개\"],\"나이키\": [\"모자\", \"5개\"],\"뉴발란스\": [\"가방\", \"1개\"]}\n",
        "\n",
        "상자['칼하트']=['후드티','2벌']\n",
        "\n",
        "print(상자)"
      ],
      "metadata": {
        "colab": {
          "base_uri": "https://localhost:8080/"
        },
        "id": "AZ18Sa34-YRL",
        "outputId": "9c74d30f-477f-414a-f5c0-29080092baa4"
      },
      "execution_count": 6,
      "outputs": [
        {
          "output_type": "stream",
          "name": "stdout",
          "text": [
            "{'아디다스': ['신발', '2개'], '나이키': ['모자', '5개'], '뉴발란스': ['가방', '1개'], '칼하트': ['후드티', '2벌']}\n"
          ]
        }
      ]
    },
    {
      "cell_type": "markdown",
      "metadata": {
        "id": "FBZZ_YEK9snJ"
      },
      "source": [
        "----"
      ]
    },
    {
      "cell_type": "markdown",
      "metadata": {
        "id": "Wt1TsuPw9snJ"
      },
      "source": [
        "<span style=\"font-size:80%\">[문제5]<br><br></span>\n",
        "아래 keys 변수와 vals 변수에 들어있는 값을 이용해 agency_dict라는 딕셔너리를 만드는 코드를 작성해주세요\n",
        "\n",
        "```\n",
        "keys = [\"뉴진스\", \"아이브\", \"에스파\"]\n",
        "vals = [\"하이브\" , \"스타쉽\", \"SM\"]\n",
        "```"
      ]
    },
    {
      "cell_type": "markdown",
      "metadata": {
        "id": "vbUtTgm09snJ"
      },
      "source": [
        "<span style=\"color:red\">답변</span>"
      ]
    },
    {
      "cell_type": "markdown",
      "metadata": {
        "id": "F29YXHDb9snK"
      },
      "source": []
    },
    {
      "cell_type": "code",
      "source": [
        "keys = [\"뉴진스\", \"아이브\", \"에스파\"]\n",
        "vals = [\"하이브\" , \"스타쉽\", \"SM\"]\n",
        "\n",
        "agency_dict = dict(zip(keys,vals))\n",
        "\n",
        "print(agency_dict)"
      ],
      "metadata": {
        "colab": {
          "base_uri": "https://localhost:8080/"
        },
        "id": "SaKsznzB-xXF",
        "outputId": "c9f6dc7b-dfa5-4250-9a2e-4f7c8f9c0996"
      },
      "execution_count": 7,
      "outputs": [
        {
          "output_type": "stream",
          "name": "stdout",
          "text": [
            "{'뉴진스': '하이브', '아이브': '스타쉽', '에스파': 'SM'}\n"
          ]
        }
      ]
    }
  ],
  "metadata": {
    "language_info": {
      "name": "python"
    },
    "colab": {
      "provenance": [],
      "include_colab_link": true
    },
    "kernelspec": {
      "name": "python3",
      "display_name": "Python 3"
    }
  },
  "nbformat": 4,
  "nbformat_minor": 0
}