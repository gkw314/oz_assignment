{
  "cells": [
    {
      "cell_type": "markdown",
      "metadata": {
        "id": "view-in-github",
        "colab_type": "text"
      },
      "source": [
        "<a href=\"https://colab.research.google.com/github/gkw314/oz_assignment/blob/main/Ch04_task.ipynb\" target=\"_parent\"><img src=\"https://colab.research.google.com/assets/colab-badge.svg\" alt=\"Open In Colab\"/></a>"
      ]
    },
    {
      "cell_type": "markdown",
      "metadata": {
        "id": "17Iay9CnXWwO"
      },
      "source": [
        "<span style=\"font-size:100%\">\n",
        "\n",
        "수업은 모두 열심히 들으셨나요?\n",
        "\n",
        "간혹 강의에서 언급되지 않은 내용이 문제로 나올 수 있습니다.<br>\n",
        "그럴땐 강의 내용 외 문제는 구글링을 통해 해결해주세요<br></span>\n",
        "<span style=\"font-size:80%\">\n",
        "(구글링 또한 개발자가 갖쳐야할 역량 중에 하나랍니다 😊)\n",
        "</span>\n",
        "\n",
        "---"
      ]
    },
    {
      "cell_type": "markdown",
      "metadata": {
        "id": "Vmb13zIFXWwP"
      },
      "source": [
        "<span style=\"font-size:80%\">[문제1]<br><br></span>\n",
        "```다음 중 14 % 3의 계산 결과로 옳은 것을 고르세요```\n",
        "\n",
        "1. 4\n",
        "2. 4.6\n",
        "3. 2\n",
        "4. 1"
      ]
    },
    {
      "cell_type": "markdown",
      "metadata": {
        "id": "zynz8hZQXWwP"
      },
      "source": [
        "<span style=\"color:red\">답변</span>"
      ]
    },
    {
      "cell_type": "markdown",
      "source": [
        "3번"
      ],
      "metadata": {
        "id": "X_hr_S3tXtRk"
      }
    },
    {
      "cell_type": "code",
      "source": [
        "14 % 3"
      ],
      "metadata": {
        "colab": {
          "base_uri": "https://localhost:8080/"
        },
        "id": "MikG7a3sXeZz",
        "outputId": "3ea1778e-2b35-47be-8199-a7abda7552ee"
      },
      "execution_count": 2,
      "outputs": [
        {
          "output_type": "execute_result",
          "data": {
            "text/plain": [
              "2"
            ]
          },
          "metadata": {},
          "execution_count": 2
        }
      ]
    },
    {
      "cell_type": "markdown",
      "metadata": {
        "id": "_pZKM4PHXWwP"
      },
      "source": [
        "----"
      ]
    },
    {
      "cell_type": "markdown",
      "metadata": {
        "id": "i4w_vfmiXWwP"
      },
      "source": [
        "<span style=\"font-size:80%\">[문제2]<br><br></span>\n",
        "```다음 중 올바르지 않은 것을 고르세요```\n",
        "\n",
        "1. float(17//3)\n",
        "2. int(10)-9\n",
        "3. float11/2\n",
        "4. float(10)-2"
      ]
    },
    {
      "cell_type": "markdown",
      "metadata": {
        "id": "tnmggrPlXWwQ"
      },
      "source": [
        "<span style=\"color:red\">답변</span>"
      ]
    },
    {
      "cell_type": "markdown",
      "metadata": {
        "id": "YaLupraUXWwQ"
      },
      "source": [
        "1번, 4번"
      ]
    },
    {
      "cell_type": "code",
      "source": [
        "float(17//3)"
      ],
      "metadata": {
        "colab": {
          "base_uri": "https://localhost:8080/"
        },
        "id": "oou5UhGnXyb1",
        "outputId": "9b7bfa29-9609-481b-b57f-53fc1edb0ec7"
      },
      "execution_count": 5,
      "outputs": [
        {
          "output_type": "execute_result",
          "data": {
            "text/plain": [
              "5.0"
            ]
          },
          "metadata": {},
          "execution_count": 5
        }
      ]
    },
    {
      "cell_type": "code",
      "source": [
        "int(10)-9"
      ],
      "metadata": {
        "colab": {
          "base_uri": "https://localhost:8080/"
        },
        "id": "RfWHIaNiYDyF",
        "outputId": "77a0a029-88c4-4f1c-f1f7-5da5e6fe64d7"
      },
      "execution_count": 6,
      "outputs": [
        {
          "output_type": "execute_result",
          "data": {
            "text/plain": [
              "1"
            ]
          },
          "metadata": {},
          "execution_count": 6
        }
      ]
    },
    {
      "cell_type": "code",
      "source": [
        "float(11)/2"
      ],
      "metadata": {
        "colab": {
          "base_uri": "https://localhost:8080/"
        },
        "id": "5Br7uSE_YFkl",
        "outputId": "d7651a79-f05d-4b1a-f316-165e4eaef994"
      },
      "execution_count": 7,
      "outputs": [
        {
          "output_type": "execute_result",
          "data": {
            "text/plain": [
              "5.5"
            ]
          },
          "metadata": {},
          "execution_count": 7
        }
      ]
    },
    {
      "cell_type": "code",
      "source": [
        "float(10)-2"
      ],
      "metadata": {
        "colab": {
          "base_uri": "https://localhost:8080/"
        },
        "id": "TmbLimkIYI3e",
        "outputId": "ef761f32-30f4-4d71-fccc-624cb5d4d947"
      },
      "execution_count": 8,
      "outputs": [
        {
          "output_type": "execute_result",
          "data": {
            "text/plain": [
              "8.0"
            ]
          },
          "metadata": {},
          "execution_count": 8
        }
      ]
    },
    {
      "cell_type": "markdown",
      "metadata": {
        "id": "bCdHB7EKXWwQ"
      },
      "source": [
        "----"
      ]
    },
    {
      "cell_type": "markdown",
      "metadata": {
        "id": "1g6jTdSJXWwQ"
      },
      "source": [
        "[문제3]<br><br>\n",
        "다음 계산식의 결괏값을 골라주세요\n",
        "\n",
        "(3 * 7 - 16) / 2 - 1"
      ]
    },
    {
      "cell_type": "markdown",
      "metadata": {
        "id": "9anrb8HDXWwQ"
      },
      "source": [
        "<span style=\"color:red\">답변</span>"
      ]
    },
    {
      "cell_type": "markdown",
      "metadata": {
        "id": "wAOfNX4jXWwQ"
      },
      "source": [
        "1.5"
      ]
    },
    {
      "cell_type": "code",
      "source": [
        "(3 * 7 - 16) / 2 - 1"
      ],
      "metadata": {
        "colab": {
          "base_uri": "https://localhost:8080/"
        },
        "id": "RyJM5RCjYgYx",
        "outputId": "daa861a8-c9da-4c84-98c2-451f4fd73967"
      },
      "execution_count": 9,
      "outputs": [
        {
          "output_type": "execute_result",
          "data": {
            "text/plain": [
              "1.5"
            ]
          },
          "metadata": {},
          "execution_count": 9
        }
      ]
    },
    {
      "cell_type": "markdown",
      "metadata": {
        "id": "YhijtxEVXWwQ"
      },
      "source": [
        "----"
      ]
    },
    {
      "cell_type": "markdown",
      "metadata": {
        "id": "7QhBJF2IXWwQ"
      },
      "source": [
        "[문제4]<br><br>\n",
        "거듭제곱을 올바르게 표현한 식을 골라주세요\n",
        "\n",
        "1. 2 ^^ 3\n",
        "2. 2 ** 3\n",
        "3. 2 ^* 3\n",
        "4. 2 ~~ 3"
      ]
    },
    {
      "cell_type": "markdown",
      "metadata": {
        "id": "7goht4n_XWwQ"
      },
      "source": [
        "<span style=\"color:red\">답변</span>"
      ]
    },
    {
      "cell_type": "markdown",
      "metadata": {
        "id": "n79UQBiHXWwR"
      },
      "source": [
        "2번"
      ]
    },
    {
      "cell_type": "markdown",
      "metadata": {
        "id": "eZsYRPX2XWwR"
      },
      "source": [
        "----"
      ]
    },
    {
      "cell_type": "markdown",
      "metadata": {
        "id": "4-7ttdEyXWwR"
      },
      "source": [
        "[문제5]<br><br>\n",
        "목과 나머지를 함께 구하기 위해 사용할 수 있는 표현을 골라주세요\n",
        "\n",
        "1. //\n",
        "2. divmod()\n",
        "3. %\n",
        "4. /"
      ]
    },
    {
      "cell_type": "markdown",
      "metadata": {
        "id": "83RONFJcXWwR"
      },
      "source": [
        "<span style=\"color:red\">답변</span>"
      ]
    },
    {
      "cell_type": "markdown",
      "metadata": {
        "id": "QyBJHDNZXWwR"
      },
      "source": [
        "2번"
      ]
    }
  ],
  "metadata": {
    "language_info": {
      "name": "python"
    },
    "colab": {
      "provenance": [],
      "include_colab_link": true
    },
    "kernelspec": {
      "name": "python3",
      "display_name": "Python 3"
    }
  },
  "nbformat": 4,
  "nbformat_minor": 0
}