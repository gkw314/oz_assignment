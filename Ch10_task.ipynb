{
  "cells": [
    {
      "cell_type": "markdown",
      "metadata": {
        "id": "view-in-github",
        "colab_type": "text"
      },
      "source": [
        "<a href=\"https://colab.research.google.com/github/gkw314/oz_assignment/blob/main/Ch10_task.ipynb\" target=\"_parent\"><img src=\"https://colab.research.google.com/assets/colab-badge.svg\" alt=\"Open In Colab\"/></a>"
      ]
    },
    {
      "cell_type": "markdown",
      "metadata": {
        "id": "4gq_2DHSARfZ"
      },
      "source": [
        "<span style=\"font-size:100%\">\n",
        "\n",
        "수업은 모두 열심히 들으셨나요?\n",
        "\n",
        "간혹 강의에서 언급되지 않은 내용이 문제로 나올 수 있습니다.<br>\n",
        "그럴땐 강의 내용 외 문제는 구글링을 통해 해결해주세요<br></span>\n",
        "<span style=\"font-size:80%\">\n",
        "(구글링 또한 개발자가 갖쳐야할 역량 중에 하나랍니다 😊)\n",
        "</span>\n",
        "\n",
        "---"
      ]
    },
    {
      "cell_type": "markdown",
      "metadata": {
        "id": "Nu-ox8NkARfa"
      },
      "source": [
        "<span style=\"font-size:80%\">[문제1]<br><br></span>\n",
        "아래 리스트에 들어있는 값의 평균을 구하는 코드를 작성해주세요\n",
        "\n",
        "x = [34, 22, 10, 3, 55, 66]"
      ]
    },
    {
      "cell_type": "markdown",
      "metadata": {
        "id": "hM5xlEZfARfa"
      },
      "source": [
        "<span style=\"color:red\">답변</span>"
      ]
    },
    {
      "cell_type": "markdown",
      "metadata": {
        "id": "OO97B3AoARfb"
      },
      "source": [
        "평균= 31.666666666666668"
      ]
    },
    {
      "cell_type": "code",
      "source": [
        "x = [34, 22, 10, 3, 55, 66]\n",
        "\n",
        "avg = sum(x) / len(x)\n",
        "\n",
        "print(avg)"
      ],
      "metadata": {
        "colab": {
          "base_uri": "https://localhost:8080/"
        },
        "id": "FeGn4PpVAWBX",
        "outputId": "0bfcf5ac-9639-401d-f2f5-6a5238b8af03"
      },
      "execution_count": 1,
      "outputs": [
        {
          "output_type": "stream",
          "name": "stdout",
          "text": [
            "31.666666666666668\n"
          ]
        }
      ]
    },
    {
      "cell_type": "markdown",
      "metadata": {
        "id": "IVgbLPK5ARfb"
      },
      "source": [
        "----"
      ]
    },
    {
      "cell_type": "markdown",
      "metadata": {
        "id": "Sw8w5aZqARfb"
      },
      "source": [
        "<span style=\"font-size:80%\">[문제2]<br><br></span>\n",
        "리스트 안에 있는 데이터를 오름차순으로 정렬하는 메소드를 모두 골라주세요\n",
        "\n",
        "1. upper()\n",
        "2. low()\n",
        "3. sort()\n",
        "4. hight()\n",
        "5. sorted()"
      ]
    },
    {
      "cell_type": "markdown",
      "metadata": {
        "id": "1Q_grFcOARfb"
      },
      "source": [
        "<span style=\"color:red\">답변</span>"
      ]
    },
    {
      "cell_type": "markdown",
      "metadata": {
        "id": "I7C2_ALEARfb"
      },
      "source": [
        "파이썬에서 오름차순으로 정렬하는 메소드는 sort(), sorted()\n",
        "\n",
        "3번, 5번"
      ]
    },
    {
      "cell_type": "markdown",
      "metadata": {
        "id": "v-CUSVbBARfc"
      },
      "source": [
        "----"
      ]
    },
    {
      "cell_type": "markdown",
      "metadata": {
        "id": "3WS-eiz8ARfc"
      },
      "source": [
        "<span style=\"font-size:80%\">[문제3]<br><br></span>\n",
        "리스트 x가 있을 때 x.append(7)과 결과가 동일한 것을 모두 골라주세요\n",
        "\n",
        "\n",
        "1. x[-1:] = [7]\n",
        "2. x.insert(len(x), 7)\n",
        "3. x[0:] = 7\n",
        "4. x[len(x):] = 7\n",
        "5. x[len(x):] = [7]"
      ]
    },
    {
      "cell_type": "markdown",
      "metadata": {
        "id": "tQC9s8l9ARfc"
      },
      "source": [
        "<span style=\"color:red\">답변</span>"
      ]
    },
    {
      "cell_type": "markdown",
      "metadata": {
        "id": "2cU3owcEARfc"
      },
      "source": [
        "2번, 5번"
      ]
    },
    {
      "cell_type": "markdown",
      "metadata": {
        "id": "WCGe-t5QARfc"
      },
      "source": [
        "----"
      ]
    },
    {
      "cell_type": "markdown",
      "metadata": {
        "id": "MHlPbSwrARfd"
      },
      "source": [
        "<span style=\"font-size:80%\">[문제4]<br><br></span>\n",
        "리스트의 모든 요소를 삭제하는 메서드를 골라주세요\n",
        "\n",
        "1. remove\n",
        "2. clean\n",
        "3. pop\n",
        "4. clear\n",
        "5. reverse"
      ]
    },
    {
      "cell_type": "markdown",
      "metadata": {
        "id": "lR9v-T7QARfd"
      },
      "source": [
        "<span style=\"color:red\">답변</span>"
      ]
    },
    {
      "cell_type": "markdown",
      "metadata": {
        "id": "aDqpsy6bARfd"
      },
      "source": [
        "4번 clear"
      ]
    },
    {
      "cell_type": "markdown",
      "metadata": {
        "id": "XKLhAcdNARfd"
      },
      "source": [
        "----"
      ]
    },
    {
      "cell_type": "markdown",
      "metadata": {
        "id": "xbbOtxpuARfd"
      },
      "source": [
        "<span style=\"font-size:80%\">[문제5]<br><br></span>\n",
        "[3.1, 6.7, 4.4]가 들어있는 리스트의 값을 문자열로 변환 후 다시 리스트로 만들어 변수 x에 담는 코드를 골라주세요\n",
        "\n",
        "1. x = list(str, [3.1, 6.7, 4.4])\n",
        "2. x = map(str, [3.1, 6.7, 4.4])\n",
        "3. x = str([3.1, 6.7, 4.4])\n",
        "4. x = list(map(str, [3.1, 6.7, 4.4]))\n",
        "5. x = map(int, [3.1, 6.7, 4.4])"
      ]
    },
    {
      "cell_type": "markdown",
      "metadata": {
        "id": "6-ZOD18ZARfd"
      },
      "source": [
        "<span style=\"color:red\">답변</span>"
      ]
    },
    {
      "cell_type": "markdown",
      "metadata": {
        "id": "hxvqoiGZARfd"
      },
      "source": [
        "4번"
      ]
    },
    {
      "cell_type": "code",
      "source": [
        "x = list(map(str, [3.1, 6.7, 4.4]))"
      ],
      "metadata": {
        "id": "5upuUJxt7H8K"
      },
      "execution_count": 2,
      "outputs": []
    }
  ],
  "metadata": {
    "language_info": {
      "name": "python"
    },
    "colab": {
      "provenance": [],
      "include_colab_link": true
    },
    "kernelspec": {
      "name": "python3",
      "display_name": "Python 3"
    }
  },
  "nbformat": 4,
  "nbformat_minor": 0
}