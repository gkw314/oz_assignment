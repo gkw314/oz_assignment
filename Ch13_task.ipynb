{
  "cells": [
    {
      "cell_type": "markdown",
      "metadata": {
        "id": "view-in-github",
        "colab_type": "text"
      },
      "source": [
        "<a href=\"https://colab.research.google.com/github/gkw314/oz_assignment/blob/main/Ch13_task.ipynb\" target=\"_parent\"><img src=\"https://colab.research.google.com/assets/colab-badge.svg\" alt=\"Open In Colab\"/></a>"
      ]
    },
    {
      "cell_type": "markdown",
      "metadata": {
        "id": "SrhwZNfY_DjK"
      },
      "source": [
        "<span style=\"font-size:100%\">\n",
        "\n",
        "수업은 모두 열심히 들으셨나요?\n",
        "\n",
        "간혹 강의에서 언급되지 않은 내용이 문제로 나올 수 있습니다.<br>\n",
        "그럴땐 강의 내용 외 문제는 구글링을 통해 해결해주세요<br></span>\n",
        "<span style=\"font-size:80%\">\n",
        "(구글링 또한 개발자가 갖쳐야할 역량 중에 하나랍니다 😊)\n",
        "</span>\n",
        "\n",
        "---"
      ]
    },
    {
      "cell_type": "markdown",
      "metadata": {
        "id": "070Tif0g_DjM"
      },
      "source": [
        "<span style=\"font-size:80%\">[문제1]<br><br></span>\n",
        "세트 money의 결과로 올바른 것을 골라주세요\n",
        "\n",
        "money = { '만원', '만원', '오만원', '백원', '오만원', '십원' }\n",
        "\n",
        "1. { '백원', '십원' }\n",
        "2. {'만원', '백원', '십원', '오만원'}\n",
        "3. {'만원', '백원', '십원'}\n",
        "4. {'만원',  '오만원'}"
      ]
    },
    {
      "cell_type": "markdown",
      "metadata": {
        "id": "BGltdSS-_DjN"
      },
      "source": [
        "<span style=\"color:red\">답변</span>"
      ]
    },
    {
      "cell_type": "markdown",
      "metadata": {
        "id": "xoqgILZG_DjN"
      },
      "source": [
        "2번"
      ]
    },
    {
      "cell_type": "markdown",
      "metadata": {
        "id": "IZBI5H6W_DjN"
      },
      "source": [
        "----"
      ]
    },
    {
      "cell_type": "markdown",
      "metadata": {
        "id": "U1MT2f3Y_DjN"
      },
      "source": [
        "<span style=\"font-size:80%\">[문제2]<br><br></span>\n",
        "세트 x = {3, 6, 9} 그리고 y = {1, 2, 3}가 있을 때, 집합 연산의 결과로 잘못된 것을 모두 고르세요\n",
        "\n",
        "1. set.union(x, y)는 {1, 2, 3, 6, 9}\n",
        "2. x ^ y는 {1, 3, 6}\n",
        "3. x - y는 {6, 9}\n",
        "4. x & y는 { 3 }\n",
        "5. set.difference(y, x)는 { 2 }"
      ]
    },
    {
      "cell_type": "markdown",
      "metadata": {
        "id": "mImieDCE_DjO"
      },
      "source": [
        "<span style=\"color:red\">답변</span>"
      ]
    },
    {
      "cell_type": "markdown",
      "metadata": {
        "id": "tLj-grCB_DjO"
      },
      "source": [
        "2번, 5번"
      ]
    },
    {
      "cell_type": "code",
      "source": [
        "x = {3, 6, 9}\n",
        "y = {1, 2, 3}\n",
        "\n",
        "# set.union(x, y)는 {1, 2, 3, 6, 9}\n",
        "x ^ y\n",
        "# x - y는 {6, 9}\n",
        "# x & y는 { 3 }\n",
        "set.difference(y, x)"
      ],
      "metadata": {
        "colab": {
          "base_uri": "https://localhost:8080/"
        },
        "id": "w6LcfVB1_Y4Q",
        "outputId": "69da0ae2-a224-4894-e59d-039ccf28b069"
      },
      "execution_count": 5,
      "outputs": [
        {
          "output_type": "execute_result",
          "data": {
            "text/plain": [
              "{1, 2}"
            ]
          },
          "metadata": {},
          "execution_count": 5
        }
      ]
    },
    {
      "cell_type": "markdown",
      "metadata": {
        "id": "x0gMRuKt_DjO"
      },
      "source": [
        "----"
      ]
    },
    {
      "cell_type": "markdown",
      "metadata": {
        "id": "YbLbc7GH_DjO"
      },
      "source": [
        "<span style=\"font-size:80%\">[문제3]<br><br></span>\n",
        "과일 바구니 안에 두리안이 있는지 확인하기 위한 코드를 작성해 주세요\n",
        "\n",
        "과일_바구니 = {'사과', '포도', '샤인머스켓', '두리안'}"
      ]
    },
    {
      "cell_type": "markdown",
      "metadata": {
        "id": "YWzrE7O6_DjO"
      },
      "source": [
        "<span style=\"color:red\">답변</span>"
      ]
    },
    {
      "cell_type": "markdown",
      "metadata": {
        "id": "tDQzv2W6_DjP"
      },
      "source": [
        "'두리안' in 과일_바구니"
      ]
    },
    {
      "cell_type": "code",
      "source": [
        "과일_바구니 = {'사과', '포도', '샤인머스켓', '두리안'}\n",
        "\n",
        "'두리안' in 과일_바구니"
      ],
      "metadata": {
        "colab": {
          "base_uri": "https://localhost:8080/"
        },
        "id": "TKUU1CEF_zTD",
        "outputId": "276b23f3-2d21-42cd-c667-9e4f7acca031"
      },
      "execution_count": 7,
      "outputs": [
        {
          "output_type": "execute_result",
          "data": {
            "text/plain": [
              "True"
            ]
          },
          "metadata": {},
          "execution_count": 7
        }
      ]
    },
    {
      "cell_type": "markdown",
      "metadata": {
        "id": "klG9OA5L_DjP"
      },
      "source": [
        "----"
      ]
    },
    {
      "cell_type": "markdown",
      "metadata": {
        "id": "0vrqr4nc_DjP"
      },
      "source": [
        "<span style=\"font-size:80%\">[문제4]<br><br></span>\n",
        "메서드와 연산자의 기능이 잘못 짝지어진 것을 골라주세요\n",
        "\n",
        "1. set.intersection은 &와 같다.\n",
        "2. set.update는 |=와 같다.\n",
        "3. symmetric_difference_update는 -=와 같다.\n",
        "4. issuperset은 >와 같다.\n",
        "5. set.union은 |와 같다."
      ]
    },
    {
      "cell_type": "markdown",
      "metadata": {
        "id": "EIJffdQc_DjP"
      },
      "source": [
        "<span style=\"color:red\">답변</span>"
      ]
    },
    {
      "cell_type": "markdown",
      "metadata": {
        "id": "xrBtdfse_DjP"
      },
      "source": [
        "3번"
      ]
    },
    {
      "cell_type": "markdown",
      "metadata": {
        "id": "FaD6ks-P_DjP"
      },
      "source": [
        "----"
      ]
    },
    {
      "cell_type": "markdown",
      "metadata": {
        "id": "KREYGup0_DjQ"
      },
      "source": [
        "<span style=\"font-size:80%\">[문제5]<br><br></span>\n",
        "세트를 만드는 방법으로 올바르지 않은 것을 골라주세요\n",
        "\n",
        "1. x = {1, 2, 3, 4, 5}\n",
        "2. x = { }\n",
        "3. x = set('hello')\n",
        "4. x  = set(range(10))\n",
        "5. x = set()"
      ]
    },
    {
      "cell_type": "markdown",
      "metadata": {
        "id": "ZonTdc_j_DjQ"
      },
      "source": [
        "<span style=\"color:red\">답변</span>"
      ]
    },
    {
      "cell_type": "markdown",
      "metadata": {
        "id": "xGccXCTO_DjQ"
      },
      "source": [
        "2번"
      ]
    }
  ],
  "metadata": {
    "language_info": {
      "name": "python"
    },
    "colab": {
      "provenance": [],
      "include_colab_link": true
    },
    "kernelspec": {
      "name": "python3",
      "display_name": "Python 3"
    }
  },
  "nbformat": 4,
  "nbformat_minor": 0
}