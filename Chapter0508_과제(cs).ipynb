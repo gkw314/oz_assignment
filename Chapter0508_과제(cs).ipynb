{
  "cells": [
    {
      "cell_type": "markdown",
      "metadata": {
        "id": "view-in-github",
        "colab_type": "text"
      },
      "source": [
        "<a href=\"https://colab.research.google.com/github/gkw314/oz_assignment/blob/main/Chapter0508_%E1%84%80%E1%85%AA%E1%84%8C%E1%85%A6(cs).ipynb\" target=\"_parent\"><img src=\"https://colab.research.google.com/assets/colab-badge.svg\" alt=\"Open In Colab\"/></a>"
      ]
    },
    {
      "cell_type": "markdown",
      "metadata": {
        "id": "WXEwMsfUct7U"
      },
      "source": [
        "컴퓨터 기초 지식을 의미하는 CS(Computer science)는<br>\n",
        "코딩 테스트와 함께 기술 면접에서 지원자에게 필수적으로 요구합니다.<br>\n",
        "\n",
        "수업 내용 중 기술 면접에 자주 나오는 질문 3가지와 기본적으로 알아야 할 내용 과제로 선정했습니다.<br>\n",
        "\n",
        "관련 내용에 대해서는 구글링 또는 관련 서적을 통해 상세히 공부하시고<br>\n",
        "답변은 최대한 핵심만 담아 간결하게 작성해주세요<br>\n",
        "\n",
        "기술 블로그를 운영 중이신 경우<br>\n",
        "답변 내용을 기술 블로그에 작성하신 후 링크를 답변에 남겨주셔도 됩니다.<br>"
      ]
    },
    {
      "cell_type": "markdown",
      "metadata": {
        "id": "qoyC9wF-3hvs"
      },
      "source": [
        "-----"
      ]
    },
    {
      "cell_type": "markdown",
      "metadata": {
        "id": "rAD_O3Gmc_43"
      },
      "source": [
        "[문제1]\n",
        "\n",
        "Python의 변수 할당 개념을 다른 언어와 비교해 설명해주세요\n"
      ]
    },
    {
      "cell_type": "markdown",
      "metadata": {
        "id": "hGCBbP7vQM2H"
      },
      "source": [
        "java는 한번 변수 선언하면 자료형이 수정이 불가능한 정적인 타입이다.\n",
        "이에 반대되는 python은 여러번 변수 선언한 후에도 자료형 수정이 가능한 동적인 타입이다."
      ]
    },
    {
      "cell_type": "markdown",
      "metadata": {
        "id": "VwswXgTEQM2H"
      },
      "source": [
        "---"
      ]
    },
    {
      "cell_type": "markdown",
      "metadata": {
        "id": "3uK_auXYdgk2"
      },
      "source": [
        "[문제2]\n",
        "\n",
        "Python의 실수형(float) 계산 시 오차가 발생하는 이유에 대해 간단히 설명해 주세요"
      ]
    },
    {
      "cell_type": "markdown",
      "source": [
        "float 자료형은 64비트를 사용해 표현되는데\n",
        "앞 부분의 11비트는 정수의 형태로 표현되고 나머지는 52비트의 소수로 나타나진다.\n",
        "이진수의 형태로 명확하게 표현되지 않을 떄는 가장 근사치의 값으로 반올림을 하여 저장하개 되는데 이 과정에서 소수점 이하의 매우 작은 오차범위가 발생하게 된다.\n"
      ],
      "metadata": {
        "id": "9kvBxa6PdhgA"
      }
    },
    {
      "cell_type": "markdown",
      "metadata": {
        "id": "nf6SwvWgQM2J"
      },
      "source": [
        "----"
      ]
    },
    {
      "cell_type": "markdown",
      "metadata": {
        "id": "2Jte2VLKdiPm"
      },
      "source": [
        "[문제3]\n",
        "\n",
        "슬라이싱에 대해 간단히 설명해주세요"
      ]
    },
    {
      "cell_type": "markdown",
      "source": [
        "슬라이싱은 list, tuple, numpy, string와 같이 연속적인 객체에서 특정 범위를 선택해 새로운 객체를 만드는 것을 말한다.\n",
        "\n",
        "시퀀스 타입의 일부분을 선택하거나 추출하는 기능"
      ],
      "metadata": {
        "id": "XJhvRO-2djBh"
      }
    }
  ],
  "metadata": {
    "colab": {
      "provenance": [],
      "include_colab_link": true
    },
    "kernelspec": {
      "display_name": "Python 3",
      "name": "python3"
    },
    "language_info": {
      "name": "python"
    }
  },
  "nbformat": 4,
  "nbformat_minor": 0
}