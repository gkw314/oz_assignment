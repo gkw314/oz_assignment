{
  "cells": [
    {
      "cell_type": "markdown",
      "metadata": {
        "id": "view-in-github",
        "colab_type": "text"
      },
      "source": [
        "<a href=\"https://colab.research.google.com/github/gkw314/oz_assignment/blob/main/Chapter0120_task.ipynb\" target=\"_parent\"><img src=\"https://colab.research.google.com/assets/colab-badge.svg\" alt=\"Open In Colab\"/></a>"
      ]
    },
    {
      "cell_type": "markdown",
      "metadata": {
        "id": "aLkxKxnFLowa"
      },
      "source": [
        "안녕하세요. 수강생 여러분~! Chapter17 ~ 20 수업은 잘 들으셨나요?\n",
        "\n",
        "Chapter01 ~ 20의 수업 내용을 바탕으로 아래 문제를 풀어주시면 됩니다.\n",
        "\n",
        "저번에 했던 \"붕어빵 자동 판매 시스템\"을 리팩토링 해봅시다 !!!\n",
        "\n",
        "못해도 괜찮아요 ! 같이 해봅시다 !\n",
        "\n",
        "<br>\n",
        "\n",
        "\n",
        "[**답변 입력 방법**]\n",
        "\n",
        "문제 아래에 있는 코드 입력창에 정답코드를 작성하신 후  __▷ 버튼을 클릭해 코드를 실행__ 해보세요<br>"
      ]
    },
    {
      "cell_type": "markdown",
      "metadata": {
        "id": "9CQXC97Hq57p"
      },
      "source": [
        "### 리팩토링 과제\n",
        "\n",
        "Day4에서 만든 \"붕어빵 자동 판매 시스템\"은 절차적 코드로 구현되어있습니다.\n",
        "<br>\n",
        "\n",
        "Day5에서 배운 함수, 클래스 개념을 적용시켜 객체지향적으로 리팩토링을 진행해주세요\n"
      ]
    },
    {
      "cell_type": "code",
      "execution_count": null,
      "metadata": {
        "id": "tNG27NMVq57q"
      },
      "outputs": [],
      "source": [
        "# 리팩토링 과제 힌트\n",
        "# 구조는 아래와 같습니다.\n",
        "class BungeoppangShop:\n",
        "    def __init__(self):\n",
        "\n",
        "    def check_stock(self):\n",
        "\n",
        "    def process_order(self, bread_type, bread_count):\n",
        "\n",
        "    def admin_mode(self):\n",
        "\n",
        "    def calculate_total_sales(self):\n",
        "\n",
        "def main():\n",
        "\n",
        "if __name__ == \"__main__\":\n",
        "    main()\n"
      ]
    },
    {
      "cell_type": "markdown",
      "metadata": {
        "id": "B2hWsY9tq57r"
      },
      "source": [
        "__BungeoppangShop 클래스__\n",
        "\n",
        "- __init__(): 초기 재고, 가격, 판매량을 설정합니다.\n",
        "- check_stock(): 현재 재고를 출력합니다.\n",
        "- process_order(): 주문을 처리하고 재고를 업데이트합니다.\n",
        "- admin_mode(): 관리자 모드에서 재고를 추가합니다.\n",
        "- calculate_total_sales(): 총 매출을 계산하고 출력합니다."
      ]
    },
    {
      "cell_type": "markdown",
      "metadata": {
        "id": "GFD2hAfxq57r"
      },
      "source": [
        "__[과제 1: 초기화 메서드 __init__]__\n",
        "\n",
        "목표: __init__ 메서드를 구현하여 붕어빵 가게의 초기 재고, 가격, 판매량을 설정합니다.\n",
        "\n",
        "설명: self.stock, self.prices, self.sales 딕셔너리를 초기화하세요.\n",
        "- stock\n",
        "    - \"팥붕어빵\": 10\n",
        "    - \"슈크림붕어빵\": 8\n",
        "    - \"초코붕어빵\": 5\n",
        "\n",
        "- prices\n",
        "    - \"팥붕어빵\": 1000\n",
        "    - \"슈크림붕어빵\": 1200\n",
        "    - \"초코붕어빵\": 1500\n",
        "\n",
        "- sales\n",
        "    - \"팥붕어빵\": 0,\n",
        "    - \"슈크림붕어빵\": 0,\n",
        "    - \"초코붕어빵\": 0"
      ]
    },
    {
      "cell_type": "code",
      "execution_count": 3,
      "metadata": {
        "id": "Vzemme74q57s"
      },
      "outputs": [],
      "source": [
        "def __init__(self):\n",
        "    self.stock = {\n",
        "        \"팥붕어빵\": 10,\n",
        "        \"슈크림붕어빵\": 8,\n",
        "        \"초코붕어빵\": 5\n",
        "    }\n",
        "    self.prices = {\n",
        "        \"팥붕어빵\" : 1000,\n",
        "        \"슈크림붕어빵\": 1200,\n",
        "        \"초코붕어빵\": 1500\n",
        "    }\n",
        "    self.sales = {\n",
        "        \"팥붕어빵\": 0,\n",
        "        \"슈크림붕어빵\": 0,\n",
        "        \"초코붕어빵\": 0\n",
        "    }"
      ]
    },
    {
      "cell_type": "markdown",
      "metadata": {
        "id": "_6KXXZHQq57s"
      },
      "source": [
        "__[과제 2: 재고 확인 메서드 check_stock]__\n",
        "\n",
        "목표: check_stock 함수를 구현하여 현재 붕어빵 재고를 출력합니다.\n",
        "\n",
        "설명: self.stock 딕셔너리를 순회하며 각 붕어빵의 종류와 재고를 출력하세요.\n"
      ]
    },
    {
      "cell_type": "code",
      "execution_count": 12,
      "metadata": {
        "id": "kR8T_Z6tq57t"
      },
      "outputs": [],
      "source": [
        "def check_stock(self):\n",
        "        print(\"\\n현재 붕어빵 재고:\")\n",
        "        for bread, quantity in self.stock.items():\n",
        "            print(f\"{bread}: {quantity}개\")"
      ]
    },
    {
      "cell_type": "markdown",
      "metadata": {
        "id": "PVmShhSRq57t"
      },
      "source": [
        "__[과제 3: 주문 처리 메서드 process_order]__\n",
        "\n",
        "목표: process_order 함수를 구현하여 손님의 주문을 처리하고 재고를 업데이트합니다.\n",
        "\n",
        "설명: bread_type과 bread_count를 매개변수로 받아, 재고를 확인하고 충분한 경우 재고를 감소시키고 판매량을 증가시킵니다. 재고가 부족하거나 잘못된 붕어빵 종류인 경우 적절한 메시지를 출력하세요."
      ]
    },
    {
      "cell_type": "code",
      "execution_count": 13,
      "metadata": {
        "id": "VHWYSSR3q57t"
      },
      "outputs": [],
      "source": [
        "def process_order(self, bread_type, bread_count):\n",
        "        if bread_type not in self.stock:\n",
        "            print(f\"'{bread_type}'는 판매하지 않는 품목입니다.\")\n",
        "            return\n",
        "\n",
        "        if self.stock[bread_type] >= bread_count:\n",
        "            self.stock[bread_type] -= bread_count\n",
        "            self.sales[bread_type] += bread_count\n",
        "            print(f\"{bread_type} {bread_count}개 판매되었습니다.\")\n",
        "        else:\n",
        "            print(f\"{bread_type}의 재고가 부족합니다. 현재 재고는 {self.stock[bread_type]}개입니다.\")"
      ]
    },
    {
      "cell_type": "markdown",
      "metadata": {
        "id": "uTsBT7OZq57t"
      },
      "source": [
        "__[과제 4: 관리자 모드 메서드 admin_mode]__\n",
        "\n",
        "목표: admin_mode 메서드를 구현하여 관리자 모드에서 재고를 추가할 수 있도록 합니다.\n",
        "\n",
        "설명: bread_type과 additional_stock을 입력받아 재고를 추가합니다. 잘못된 입력 값이 들어온 경우 적절한 메시지를 출력하세요."
      ]
    },
    {
      "cell_type": "code",
      "execution_count": 14,
      "metadata": {
        "id": "hsz1T8yPq57u"
      },
      "outputs": [],
      "source": [
        "def admin_mode(self):\n",
        "        print(\"\\n-----관리자 모드-----\\n\")\n",
        "        while True:\n",
        "            # 붕어빵 재고 추가\n",
        "            bread_type = input(\"추가할 붕어빵의 종류를 입력해주세요.(팥붕어빵, 슈크림붕어빵, 초코붕어빵) \\n추가 종료를 원하시면 '종료'라고 입력해주세요.\")\n",
        "            # 붕어빵 추가 종료\n",
        "            if bread_type == \"종료\":\n",
        "                print(\"추가를 종료합니다.\")\n",
        "                break\n",
        "\n",
        "            # 추가 개수 입력\n",
        "            # 유효한 값인지 검사\n",
        "            try:\n",
        "                add_bread_count = int(input(f\"{bread_type}의 추가 개수를 입력하세요: \"))\n",
        "                if add_bread_count <= 0:\n",
        "                    print(\"추가 개수는 1개 이상이어야 합니다.\")\n",
        "                    continue\n",
        "            except ValueError:\n",
        "                print(\"잘못된 입력입니다. 숫자를 입력해주세요.\")\n",
        "\n",
        "            # 재고 상태 출력\n",
        "            self.check_stock()\n"
      ]
    },
    {
      "cell_type": "markdown",
      "metadata": {
        "id": "9m1XDFoWq57u"
      },
      "source": [
        "\n",
        "__[과제 5: 매출 계산 메서드 calculate_total_sales]__\n",
        "\n",
        "목표: calculate_total_sales 메서드를 구현하여 총 매출을 계산하고 출력합니다.\n",
        "\n",
        "설명: self.sales와 self.prices를 사용하여 총 매출을 계산하고 출력하세요."
      ]
    },
    {
      "cell_type": "code",
      "execution_count": 15,
      "metadata": {
        "id": "oMSOl_psq57u"
      },
      "outputs": [],
      "source": [
        "def calculate_total_sales(self):\n",
        "    total_sales = sum(self.sales[bread] * self.prices[bread] for bread in self.sales)\n",
        "    print(\"\\n-----오늘 거래 내역-----\\n\")\n",
        "    for bread in self.sales:\n",
        "        sales_amount = self.sales[bread] * self.prices[bread]\n",
        "        print(f\"{bread} 판매: {self.sales[bread]}개, 매출: {sales_amount}원\")\n",
        "    print(f\"\\n총 매출: {total_sales}원\")"
      ]
    },
    {
      "cell_type": "markdown",
      "metadata": {
        "id": "FOklzLNuq57u"
      },
      "source": [
        "__[과제 6: 메인 함수 main]__\n",
        "\n",
        "목표: main 함수를 작성하여 프로그램의 주요 로직을 실행합니다.\n",
        "\n",
        "설명:\n",
        "- BungeoppangShop 객체를 생성합니다.\n",
        "- 사용자에게 모드를 선택하도록 요청합니다.\n",
        "- \"주문\" 모드에서는 손님의 주문을 처리하고, \"관리자\" 모드에서는 재고를 추가할 수 있습니다.\n",
        "- 프로그램이 종료될 때 총 매출을 계산하고 데이터를 저장합니다.\n"
      ]
    },
    {
      "cell_type": "code",
      "execution_count": null,
      "metadata": {
        "id": "1G54VZoLq57u"
      },
      "outputs": [],
      "source": [
        "def main():\n",
        "    shop = BungeoppangShop()\n",
        "\n",
        "    while True:\n",
        "        print(\"\\n-----붕어빵 판매 시스템-----\")\n",
        "        mode = input(\"모드를 선택해주세요 (주문자, 관리자, 종료): \")\n",
        "\n",
        "        if mode == \"종료\":\n",
        "            print(\"프로그램을 종료합니다.\")\n",
        "            break\n",
        "        elif mode == \"주문자\":\n",
        "            print(\"\\n-----주문자 모드-----\\n\")\n",
        "            while True:\n",
        "                bread_type = input(\"주문할 붕어빵 종류를 입력하세요 (팥붕어빵, 슈크림붕어빵, 초코붕어빵). 종료를 원하시면 '종료'를 입력하세요: \")\n",
        "                if bread_type == \"종료\":\n",
        "                    print(\"주문을 종료합니다.\")\n",
        "                    break\n",
        "\n",
        "                try:\n",
        "                    bread_count = int(input(f\"{bread_type}의 주문 개수를 입력하세요: \"))\n",
        "                    if bread_count <= 0:\n",
        "                        print(\"주문 개수는 1개 이상이어야 합니다.\")\n",
        "                        continue\n",
        "                    shop.process_order(bread_type, bread_count)\n",
        "                except ValueError:\n",
        "                    print(\"잘못된 입력입니다. 숫자를 입력해주세요.\")\n",
        "        elif mode == \"관리자\":\n",
        "            shop.admin_mode()\n",
        "        else:\n",
        "            print(\"올바른 모드를 입력해주세요.\")"
      ]
    },
    {
      "cell_type": "markdown",
      "metadata": {
        "id": "0_98SovBq57u"
      },
      "source": [
        "__[과제 7: 최종 BungeoppangShop 클래스]__\n",
        "\n",
        "함수로 리팩토링한 \"붕어빵 자동 판매 시스템\" 작성 후 실행합니다."
      ]
    },
    {
      "cell_type": "code",
      "execution_count": 20,
      "metadata": {
        "colab": {
          "base_uri": "https://localhost:8080/"
        },
        "id": "kZHMhXIsq57v",
        "outputId": "54bb4b16-eaa2-4d9f-b940-de2199ef08b8"
      },
      "outputs": [
        {
          "output_type": "stream",
          "name": "stdout",
          "text": [
            "\n",
            "[[[[[-----붕어빵 판매 시스템-----]]]]]\n",
            "모드를 선택해주세요 (주문자, 관리자, 종료): 주문자\n",
            "\n",
            "-----주문자 모드-----\n",
            "\n",
            "주문할 붕어빵 종류를 입력하세요 (팥붕어빵, 슈크림붕어빵, 초코붕어빵). 종료를 원하시면 '종료'를 입력하세요: 초코붕어빵\n",
            "초코붕어빵의 주문 개수를 입력하세요: 5\n",
            "초코붕어빵 5개 판매되었습니다.\n",
            "주문할 붕어빵 종류를 입력하세요 (팥붕어빵, 슈크림붕어빵, 초코붕어빵). 종료를 원하시면 '종료'를 입력하세요: 팥붕어빵\n",
            "팥붕어빵의 주문 개수를 입력하세요: -1\n",
            "주문 개수는 1개 이상이어야 합니다.\n",
            "주문할 붕어빵 종류를 입력하세요 (팥붕어빵, 슈크림붕어빵, 초코붕어빵). 종료를 원하시면 '종료'를 입력하세요: 팥붕\n",
            "팥붕의 주문 개수를 입력하세요: 5\n",
            "'팥붕'는 판매하지 않는 품목입니다.\n",
            "주문할 붕어빵 종류를 입력하세요 (팥붕어빵, 슈크림붕어빵, 초코붕어빵). 종료를 원하시면 '종료'를 입력하세요: 팥붕어빵\n",
            "팥붕어빵의 주문 개수를 입력하세요: 10\n",
            "팥붕어빵 10개 판매되었습니다.\n",
            "주문할 붕어빵 종류를 입력하세요 (팥붕어빵, 슈크림붕어빵, 초코붕어빵). 종료를 원하시면 '종료'를 입력하세요: 슈크림붕어빵\n",
            "슈크림붕어빵의 주문 개수를 입력하세요: 1\n",
            "슈크림붕어빵 1개 판매되었습니다.\n",
            "주문할 붕어빵 종류를 입력하세요 (팥붕어빵, 슈크림붕어빵, 초코붕어빵). 종료를 원하시면 '종료'를 입력하세요: 종료\n",
            "주문을 종료합니다.\n",
            "\n",
            "[[[[[-----붕어빵 판매 시스템-----]]]]]\n",
            "모드를 선택해주세요 (주문자, 관리자, 종료): 관리자\n",
            "\n",
            "-----관리자 모드-----\n",
            "\n",
            "추가할 붕어빵 종류를 입력하세요 (팥붕어빵, 슈크림붕어빵, 초코붕어빵). 종료를 원하시면 '종료'를 입력하세요: 팥붕어빵\n",
            "팥붕어빵의 추가 개수를 입력하세요: 5\n",
            "팥붕어빵 재고가 5개 추가되었습니다.\n",
            "\n",
            "현재 붕어빵 재고:\n",
            "팥붕어빵: 5개\n",
            "슈크림붕어빵: 7개\n",
            "초코붕어빵: 0개\n",
            "추가할 붕어빵 종류를 입력하세요 (팥붕어빵, 슈크림붕어빵, 초코붕어빵). 종료를 원하시면 '종료'를 입력하세요: 초붕\n",
            "'초붕'는 등록되지 않은 품목입니다.\n",
            "추가할 붕어빵 종류를 입력하세요 (팥붕어빵, 슈크림붕어빵, 초코붕어빵). 종료를 원하시면 '종료'를 입력하세요: 초코붕어빵\n",
            "초코붕어빵의 추가 개수를 입력하세요: 5\n",
            "초코붕어빵 재고가 5개 추가되었습니다.\n",
            "\n",
            "현재 붕어빵 재고:\n",
            "팥붕어빵: 5개\n",
            "슈크림붕어빵: 7개\n",
            "초코붕어빵: 5개\n",
            "추가할 붕어빵 종류를 입력하세요 (팥붕어빵, 슈크림붕어빵, 초코붕어빵). 종료를 원하시면 '종료'를 입력하세요: 슈크림붕어빵\n",
            "슈크림붕어빵의 추가 개수를 입력하세요: -1\n",
            "추가 개수는 1개 이상이어야 합니다.\n",
            "추가할 붕어빵 종류를 입력하세요 (팥붕어빵, 슈크림붕어빵, 초코붕어빵). 종료를 원하시면 '종료'를 입력하세요: 종료\n",
            "재고 추가를 종료합니다.\n",
            "\n",
            "[[[[[-----붕어빵 판매 시스템-----]]]]]\n",
            "모드를 선택해주세요 (주문자, 관리자, 종료): 종료\n",
            "프로그램을 종료합니다.\n",
            "\n",
            "[[[[[-----영업을 종료합니다.-----]]]]]\n",
            "\n",
            "\n",
            " ⎾‾‾‾‾‾‾오늘 거래 내역‾‾‾‾‾‾⏋\n",
            "\n",
            "팥붕어빵 판매: 10개, 매출: 10000원\n",
            "슈크림붕어빵 판매: 1개, 매출: 1200원\n",
            "초코붕어빵 판매: 5개, 매출: 7500원\n",
            "\n",
            "총 매출: 18700원\n",
            "\n",
            " ⎿_______________________⏌\n",
            "\n"
          ]
        }
      ],
      "source": [
        "class BungeoppangShop:\n",
        " # 초기화: 재고, 가격, 판매량 설정\n",
        "    def __init__(self):\n",
        "        self.stock = {\n",
        "            \"팥붕어빵\": 10,\n",
        "            \"슈크림붕어빵\": 8,\n",
        "            \"초코붕어빵\": 5\n",
        "        }\n",
        "        self.prices = {\n",
        "            \"팥붕어빵\": 1000,\n",
        "            \"슈크림붕어빵\": 1200,\n",
        "            \"초코붕어빵\": 1500\n",
        "        }\n",
        "        self.sales = {\n",
        "            \"팥붕어빵\": 0,\n",
        "            \"슈크림붕어빵\": 0,\n",
        "            \"초코붕어빵\": 0\n",
        "        }\n",
        "\n",
        "\n",
        "# 현재 붕어빵 재고 상태 출력\n",
        "    def check_stock(self):\n",
        "        print(\"\\n현재 붕어빵 재고:\")\n",
        "        for bread, quantity in self.stock.items():\n",
        "            print(f\"{bread}: {quantity}개\")\n",
        "\n",
        "# 주문 처리 - 붕어빵 품목, 개수 입력받기 , 재고 유효성 검사\n",
        "    def process_order(self, bread_type, bread_count):\n",
        "        if bread_type not in self.stock:\n",
        "            print(f\"'{bread_type}'는 판매하지 않는 품목입니다.\")\n",
        "            return\n",
        "\n",
        "        if self.stock[bread_type] >= bread_count:\n",
        "            self.stock[bread_type] -= bread_count\n",
        "            self.sales[bread_type] += bread_count\n",
        "            print(f\"{bread_type} {bread_count}개 판매되었습니다.\")\n",
        "        else:\n",
        "            print(f\"{bread_type}의 재고가 부족합니다. 현재 재고는 {self.stock[bread_type]}개입니다.\")\n",
        "\n",
        "# 관리자 모드 - 붕어빵 재고 추가\n",
        "    def admin_mode(self):\n",
        "        print(\"\\n-----관리자 모드-----\\n\")\n",
        "        while True:\n",
        "            bread_type = input(\"추가할 붕어빵 종류를 입력하세요 (팥붕어빵, 슈크림붕어빵, 초코붕어빵). 종료를 원하시면 '종료'를 입력하세요: \")\n",
        "            if bread_type == \"종료\":\n",
        "                print(\"재고 추가를 종료합니다.\")\n",
        "                break\n",
        "\n",
        "            if bread_type not in self.stock:\n",
        "                print(f\"'{bread_type}'는 등록되지 않은 품목입니다.\")\n",
        "                continue\n",
        "\n",
        "            try:\n",
        "                add_bread_count = int(input(f\"{bread_type}의 추가 개수를 입력하세요: \"))\n",
        "                if add_bread_count <= 0:\n",
        "                    print(\"추가 개수는 1개 이상이어야 합니다.\")\n",
        "                    continue\n",
        "                self.stock[bread_type] += add_bread_count\n",
        "                print(f\"{bread_type} 재고가 {add_bread_count}개 추가되었습니다.\")\n",
        "            except ValueError:\n",
        "                print(\"잘못된 입력입니다. 숫자를 입력해주세요.\")\n",
        "\n",
        "            # 현재 재고 상태 출력\n",
        "            self.check_stock()\n",
        "\n",
        "# 총 매출, 판매내역 출렷\n",
        "    def calculate_total_sales(self):\n",
        "        total_sales = sum(self.sales[bread] * self.prices[bread] for bread in self.sales)\n",
        "        print(\"\\n ⎾‾‾‾‾‾‾오늘 거래 내역‾‾‾‾‾‾⏋\\n\")\n",
        "        for bread in self.sales:\n",
        "            sales_amount = self.sales[bread] * self.prices[bread]\n",
        "            print(f\"{bread} 판매: {self.sales[bread]}개, 매출: {sales_amount}원\")\n",
        "        print(f\"\\n총 매출: {total_sales}원\")\n",
        "        print(\"\\n ⎿_______________________⏌\\n\")\n",
        "\n",
        "# 메인 함수\n",
        "def main():\n",
        "    shop = BungeoppangShop()\n",
        "\n",
        "    while True:\n",
        "        print(\"\\n[[[[[-----붕어빵 판매 시스템-----]]]]]\")\n",
        "        mode = input(\"모드를 선택해주세요 (주문자, 관리자, 종료): \")\n",
        "\n",
        "        if mode == \"종료\":\n",
        "            print(\"프로그램을 종료합니다.\")\n",
        "            break\n",
        "        elif mode == \"주문자\":\n",
        "            print(\"\\n-----주문자 모드-----\\n\")\n",
        "            while True:\n",
        "                bread_type = input(\"주문할 붕어빵 종류를 입력하세요 (팥붕어빵, 슈크림붕어빵, 초코붕어빵). 종료를 원하시면 '종료'를 입력하세요: \")\n",
        "                if bread_type == \"종료\":\n",
        "                    print(\"주문을 종료합니다.\")\n",
        "                    break\n",
        "\n",
        "                try:\n",
        "                    bread_count = int(input(f\"{bread_type}의 주문 개수를 입력하세요: \"))\n",
        "                    if bread_count <= 0:\n",
        "                        print(\"주문 개수는 1개 이상이어야 합니다.\")\n",
        "                        continue\n",
        "                    shop.process_order(bread_type, bread_count)\n",
        "                except ValueError:\n",
        "                    print(\"잘못된 입력입니다. 숫자를 입력해주세요.\")\n",
        "        elif mode == \"관리자\":\n",
        "            shop.admin_mode()\n",
        "        else:\n",
        "            print(\"올바른 모드를 입력해주세요.\")\n",
        "\n",
        "    # 종료 시 매출 출력\n",
        "    print(\"\\n[[[[[-----영업을 종료합니다.-----]]]]]\\n\")\n",
        "    shop.calculate_total_sales()\n",
        "\n",
        "\n",
        "if __name__ == \"__main__\":\n",
        "    main()\n"
      ]
    }
  ],
  "metadata": {
    "colab": {
      "provenance": [],
      "include_colab_link": true
    },
    "kernelspec": {
      "display_name": "Python 3",
      "name": "python3"
    },
    "language_info": {
      "codemirror_mode": {
        "name": "ipython",
        "version": 3
      },
      "file_extension": ".py",
      "mimetype": "text/x-python",
      "name": "python",
      "nbconvert_exporter": "python",
      "pygments_lexer": "ipython3",
      "version": "3.11.7"
    }
  },
  "nbformat": 4,
  "nbformat_minor": 0
}