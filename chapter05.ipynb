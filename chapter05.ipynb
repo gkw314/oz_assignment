{
  "nbformat": 4,
  "nbformat_minor": 0,
  "metadata": {
    "colab": {
      "provenance": [],
      "authorship_tag": "ABX9TyMNFYOR+46dItEfIOdcELTw",
      "include_colab_link": true
    },
    "kernelspec": {
      "name": "python3",
      "display_name": "Python 3"
    },
    "language_info": {
      "name": "python"
    }
  },
  "cells": [
    {
      "cell_type": "markdown",
      "metadata": {
        "id": "view-in-github",
        "colab_type": "text"
      },
      "source": [
        "<a href=\"https://colab.research.google.com/github/gkw314/oz_assignment/blob/main/chapter05.ipynb\" target=\"_parent\"><img src=\"https://colab.research.google.com/assets/colab-badge.svg\" alt=\"Open In Colab\"/></a>"
      ]
    },
    {
      "cell_type": "markdown",
      "metadata": {
        "id": "_e9OoiwAvohg"
      },
      "source": [
        "##사칙연산\n",
        "\n",
        "더하기 : +\n",
        "\n",
        "빼기   : -\n",
        "\n",
        "곱하기 : *\n",
        "\n",
        "나누기\n",
        "* /  : 우리가 알고 있는 나누기와 동일 (예: 5 / 2 = 2.5)\n",
        "* // : 몫을 반환(5/2 = 2)\n",
        "* %  : 나머지 반환 (5%2=1)\n",
        "\n",
        "거듭제곱 : **"
      ]
    },
    {
      "cell_type": "markdown",
      "metadata": {
        "id": "W1DAhw7Hv_Dk"
      },
      "source": [
        "내장함수 : divmod\n",
        "내장 함수란?\n",
        "\n",
        "자주사용 하는 기능을 미리 만들어 놓은것을 내장함수라고 함\n",
        "\n",
        "파이썬에는 다양한 내장함수가 존재하며, 내장함수는 파이썬이 입문자에게 가장 좋은 언어로 각광받는 요인 중 하나에 해당한다.\n",
        "\n",
        "divmod(3, 2) : 몫과 나머지를 동시에 구해줌"
      ]
    },
    {
      "cell_type": "code",
      "execution_count": null,
      "metadata": {
        "colab": {
          "base_uri": "https://localhost:8080/"
        },
        "id": "TEn0VH92wHz5",
        "outputId": "1810c1e6-4485-46a0-a8ca-6c8d36ccdf1e"
      },
      "outputs": [
        {
          "data": {
            "text/plain": [
              "(1, 1)"
            ]
          },
          "execution_count": 1,
          "metadata": {},
          "output_type": "execute_result"
        }
      ],
      "source": [
        "divmod(3, 2)"
      ]
    },
    {
      "cell_type": "markdown",
      "metadata": {
        "id": "MtEjYKEQwPDU"
      },
      "source": [
        "괄호 ( ) 수학에서 사용되는 괄호와 동일한 기능\n",
        "\n",
        "( ) : 괄호안에 있는 것을 먼저 계산\n",
        "\n",
        "사칙연산 순서 : 괄호 -> 곱셉, 나눗셈 -> 덧셈, 뺄셈"
      ]
    },
    {
      "cell_type": "code",
      "execution_count": null,
      "metadata": {
        "colab": {
          "base_uri": "https://localhost:8080/"
        },
        "id": "gZytbHsnwWhd",
        "outputId": "eaadda34-d691-4744-90a5-80c7c37993f3"
      },
      "outputs": [
        {
          "data": {
            "text/plain": [
              "29500"
            ]
          },
          "execution_count": 2,
          "metadata": {},
          "output_type": "execute_result"
        }
      ],
      "source": [
        "# 아아 : 5000원 / 아샷추 : 6500원\n",
        "# 아아 2잔 / 아샷추 3잔\n",
        "\n",
        "(5000 * 2) + (6500 * 3)"
      ]
    },
    {
      "cell_type": "code",
      "execution_count": null,
      "metadata": {
        "colab": {
          "base_uri": "https://localhost:8080/"
        },
        "id": "4NE2fP_zwnzh",
        "outputId": "394b0ffc-7519-4121-8c0d-928e794fd277"
      },
      "outputs": [
        {
          "data": {
            "text/plain": [
              "29500"
            ]
          },
          "execution_count": 3,
          "metadata": {},
          "output_type": "execute_result"
        }
      ],
      "source": [
        "# 어제 아아 2잔이랑 아샷추 3잔 결제한 금액이 얼마였지?\n",
        "(5000 * 2) + (6500 * 3)"
      ]
    },
    {
      "cell_type": "code",
      "execution_count": null,
      "metadata": {
        "colab": {
          "base_uri": "https://localhost:8080/"
        },
        "id": "8UeNFvDcwuVj",
        "outputId": "297049ba-e6d1-4127-c4d5-dea439ca5784"
      },
      "outputs": [
        {
          "data": {
            "text/plain": [
              "29500"
            ]
          },
          "execution_count": 4,
          "metadata": {},
          "output_type": "execute_result"
        }
      ],
      "source": [
        "# 미안한데 그때 아아 2잔이랑 아샷추 3잔 결제한 금액이 얼마였지?\n",
        "(5000 * 2) + (6500 * 3)"
      ]
    },
    {
      "cell_type": "markdown",
      "metadata": {
        "id": "Ti9HjwLcw3N1"
      },
      "source": [
        "### 변수란? ( 기본중에 기본, 근본중에 근본, 코어중에 코어..... )\n",
        "\n",
        "\n",
        "하나의 변수에 하나의 값을 넣을때\n",
        "\n",
        ": 변수이름 = 값\n",
        "\n",
        "두개의 변수에 하나의 값을 각각 넣을때\n",
        "\n",
        ": 변수이름1, 변수이름2 = 값1, 값2"
      ]
    },
    {
      "cell_type": "code",
      "execution_count": null,
      "metadata": {
        "colab": {
          "base_uri": "https://localhost:8080/"
        },
        "id": "Nqw-pWBhx9yC",
        "outputId": "3433ff7f-408b-4f48-dee3-fff4d13fb481"
      },
      "outputs": [
        {
          "name": "stdout",
          "output_type": "stream",
          "text": [
            "1\n",
            "2\n",
            "1 2\n"
          ]
        }
      ],
      "source": [
        "# 하나의 값을 변수에 넣을 때\n",
        "num = 1\n",
        "#print(num)\n",
        "\n",
        "# 두개의 값을 변수에 넣을 때\n",
        "num_1, num_2 = 1, 2\n",
        "print(num_1)\n",
        "print(num_2)\n",
        "\n",
        "print(num_1, num_2)"
      ]
    },
    {
      "cell_type": "markdown",
      "metadata": {
        "id": "WHaH0MgdyfNH"
      },
      "source": [
        "1부터 5까지의 숫자를 더하는 문제를 풀어보겠습니다.\n",
        "단, 다음 숫자를 더하기 위해서 매번 새로운 줄에서 시작해야하는 조건이 있습니다."
      ]
    },
    {
      "cell_type": "code",
      "execution_count": null,
      "metadata": {
        "colab": {
          "base_uri": "https://localhost:8080/"
        },
        "id": "RaZhMCgayeGa",
        "outputId": "1c4760aa-4af8-4a32-ddd5-3a2ab68b833c"
      },
      "outputs": [
        {
          "data": {
            "text/plain": [
              "15"
            ]
          },
          "execution_count": 9,
          "metadata": {},
          "output_type": "execute_result"
        }
      ],
      "source": [
        "# 변수를 사용하지 않을 때\n",
        "# 이전에 계산된 결과를 저장할 수 있는 방법이 없음\n",
        "1 + 2\n",
        "1 + 2 + 3\n",
        "1 + 2 + 3 + 4\n",
        "1 + 2 + 3 + 4 + 5"
      ]
    },
    {
      "cell_type": "code",
      "execution_count": null,
      "metadata": {
        "colab": {
          "base_uri": "https://localhost:8080/"
        },
        "id": "nbVOffD1y3KM",
        "outputId": "8aaf5774-672d-46db-f467-4fbe153b4681"
      },
      "outputs": [
        {
          "name": "stdout",
          "output_type": "stream",
          "text": [
            "15\n"
          ]
        }
      ],
      "source": [
        "# 변수를 사용할 때\n",
        "#이전에 계산된 결과를 저장해서 사용할 수 있음\n",
        "\n",
        "sum = 1 + 2\n",
        "sum = sum + 3\n",
        "sum = sum + 4\n",
        "sum = sum + 5\n",
        "\n",
        "print(sum)"
      ]
    },
    {
      "cell_type": "markdown",
      "metadata": {
        "id": "5DZ3N_KTzRlr"
      },
      "source": [
        "### 변수에 값을 넣는 것 => 할당\n",
        "\n",
        "sum = 1 + 2는 1+2의 계산된 결과를 sum이라는 변수에 할당한다고 설명할 수 있습니다.\n",
        "sum 변수명이고 \"=\" 같다는 의미가 아니라 할당(assignment)이라고 합니다.  \n",
        "\n",
        "- \"=\" : 할당 연산자  \n",
        "- \"+\" : 산술 연사자  \n",
        "\n",
        "+= 산술 후 바로 할당하는 문법  \n",
        "/=, -=, *= 모두 가능합니다."
      ]
    },
    {
      "cell_type": "code",
      "execution_count": null,
      "metadata": {
        "colab": {
          "base_uri": "https://localhost:8080/"
        },
        "id": "2hWI6N5E0OI_",
        "outputId": "3950c92f-137b-4124-940d-c62555b3d135"
      },
      "outputs": [
        {
          "name": "stdout",
          "output_type": "stream",
          "text": [
            "15\n",
            "15\n"
          ]
        }
      ],
      "source": [
        "# 변수를 사용하면서 사용 가능한 문법\n",
        "\n",
        "sum = 1 + 2\n",
        "sum = sum + 3\n",
        "sum = sum + 4\n",
        "sum = sum + 5\n",
        "\n",
        "print(sum)\n",
        "\n",
        "sum2 = 1 + 2\n",
        "sum2 += 3\n",
        "sum2 += 4\n",
        "sum2 += 5\n",
        "\n",
        "print(sum2)"
      ]
    },
    {
      "cell_type": "code",
      "execution_count": null,
      "metadata": {
        "colab": {
          "base_uri": "https://localhost:8080/"
        },
        "id": "3BTSXj-t1DXl",
        "outputId": "7cb2da1f-226a-4998-e9a3-f51a60581db3"
      },
      "outputs": [
        {
          "data": {
            "text/plain": [
              "1"
            ]
          },
          "execution_count": 16,
          "metadata": {},
          "output_type": "execute_result"
        }
      ],
      "source": [
        "# 주의 !! 선언되지 않은 변수를 사용할 경우 에러 발생\n",
        "\n",
        "sum3 = 0\n",
        "sum3 += 1\n",
        "\n",
        "sum3"
      ]
    },
    {
      "cell_type": "code",
      "execution_count": null,
      "metadata": {
        "colab": {
          "base_uri": "https://localhost:8080/"
        },
        "id": "4awpZchx1jVr",
        "outputId": "711fa290-f0c0-4307-8d3c-db05c7d41483"
      },
      "outputs": [
        {
          "name": "stdout",
          "output_type": "stream",
          "text": [
            "None\n"
          ]
        }
      ],
      "source": [
        "# 변수에 어떤값도 넣고 싶지 않고 선언하는 방법\n",
        "\n",
        "nothing = None\n",
        "print(None)"
      ]
    },
    {
      "cell_type": "markdown",
      "metadata": {
        "id": "si06vw6e15Zu"
      },
      "source": [
        "- 변수를 만드는 규칙\n",
        "\n",
        "    - 영문 문자와 숫자를 사용할 수 있습니다.  \n",
        "    - 대소문자를 구분합니다.  \n",
        "    - 첫글자는 대문자로 쓰는걸 지향합니다.  \n",
        "    - 문자부터 시작해야 하며 숫자부터 시작하면 안 됩니다.  \n",
        "    - _(밑줄 문자)로 시작할 수 있습니다.  \n",
        "    - 특수 문자(+, -, *, /, $, @, &, % 등)는 사용할 수 없습니다.  \n",
        "    - 파이썬의 키워드(if, for, while, and, or 등)는 사용할 수 없습니다.  "
      ]
    },
    {
      "cell_type": "code",
      "execution_count": null,
      "metadata": {
        "colab": {
          "base_uri": "https://localhost:8080/"
        },
        "id": "i3KFnu1B2KBL",
        "outputId": "c40375c9-1c66-4d7b-861f-cca304a1d4a2"
      },
      "outputs": [
        {
          "name": "stdout",
          "output_type": "stream",
          "text": [
            "크다 작다\n"
          ]
        }
      ],
      "source": [
        "#대소문자를 구분하는 변수\n",
        "BIG = \"크다\"\n",
        "big = \"작다\"\n",
        "\n",
        "print(BIG, big)"
      ]
    },
    {
      "cell_type": "markdown",
      "metadata": {
        "id": "tB85leF92ysL"
      },
      "source": [
        "스네이크케이스(snake case)  \n",
        "변수명 : snake_case\n",
        "\n",
        "카멜케이스(camel case)\n",
        "변수명 : camelCase"
      ]
    },
    {
      "cell_type": "code",
      "execution_count": null,
      "metadata": {
        "colab": {
          "base_uri": "https://localhost:8080/"
        },
        "id": "I9bCId-M3Nps",
        "outputId": "1c54379e-49bd-4b63-9e5f-1230d54dc0a8"
      },
      "outputs": [
        {
          "name": "stdout",
          "output_type": "stream",
          "text": [
            "스니커즈\n",
            "슈프림 모자\n"
          ]
        }
      ],
      "source": [
        "# 우리는 변수를 만들때 스네이크케이스로 진행합니다. 그리고 언더바는 2개를 적용시켜주세요\n",
        "# 개발에 관련된 여러 조건을 명시하는 것들을 코드 컨벤션이라고 합니다.\n",
        "\n",
        "box__shose = \"스니커즈\"\n",
        "box__hat = \"슈프림 모자\"\n",
        "\n",
        "print(box__shose)\n",
        "print(box__hat)"
      ]
    },
    {
      "cell_type": "code",
      "execution_count": null,
      "metadata": {
        "colab": {
          "base_uri": "https://localhost:8080/"
        },
        "id": "z22hE-Mw3s_2",
        "outputId": "bd93a745-7937-4692-f2f7-08dcbb79b417"
      },
      "outputs": [
        {
          "name": "stdout",
          "output_type": "stream",
          "text": [
            "파머만 빼고 고양이 다 있어\n"
          ]
        }
      ],
      "source": [
        "#print() 포메팅 3가지 f-string  : print(f' {변수명} ')\n",
        "\n",
        "me = \"파머\"\n",
        "print(f'{me}만 빼고 고양이 다 있어')"
      ]
    },
    {
      "cell_type": "code",
      "execution_count": null,
      "metadata": {
        "id": "Qq5lL1MO4RlC"
      },
      "outputs": [],
      "source": [
        "# 붕어빵 철이 돌아왔죠\n",
        "# 붕어빵(팥) : 2000원, 붕어빵(슈크림) : 2500원, 붕어빵(잡채) : 3000원\n",
        "# 무인 주문기계를 만들어주세요\n",
        "# 붕어빵(잡채) 3개, 붕어빵(슈크림) 2개를 주문하면\n",
        "# \"주문이 완료되었습니다. 붕어빵(슈크림) 2개, 붕어빵(잡채) 3개 총 5개 결제 금액은 14000원 입니다.\"\n",
        "# 이 출력되도록 코드를 작성해주세요\n",
        "# 변수를 만들때 스네이크 케이스에 언더바는 2개 / print()문의 포메팅 f-string"
      ]
    },
    {
      "cell_type": "code",
      "execution_count": 2,
      "metadata": {
        "colab": {
          "base_uri": "https://localhost:8080/"
        },
        "id": "807UsicO4qDm",
        "outputId": "43a058b8-21cc-4e94-8118-594c91dfec90"
      },
      "outputs": [
        {
          "output_type": "stream",
          "name": "stdout",
          "text": [
            "주문이 완료되었습니다. 붕어빵(슈크림) 2개, 붕어빵(잡채)개 3 총 5개 결제 금액은 14000원 입니다.\n"
          ]
        }
      ],
      "source": [
        "#변수값 입력\n",
        "fish__p , fish__s , fish__j = \"붕어빵(팥)\", \"붕어빵(슈크림)\", \"붕어빵(잡채)\"\n",
        "fish__p__value , fish__s__value , fish__j_value = 2000, 2500, 3000\n",
        "order_s, order_j = 2, 3\n",
        "\n",
        "# 붕어빵 계산값\n",
        "order_s__pay, order_j__pay = fish__s__value * 2, fish__j_value *3\n",
        "\n",
        "# 구매 총 개수\n",
        "total_order = order_s + order_j\n",
        "\n",
        "# 구매 총 금액\n",
        "total_pay = order_s__pay + order_j__pay\n",
        "\n",
        "#출력\n",
        "print(f'주문이 완료되었습니다. {fish__s} {order_s}개, {fish__j}개 {order_j} 총 {total_order}개 결제 금액은 {total_pay}원 입니다.')"
      ]
    }
  ]
}