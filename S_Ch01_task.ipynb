{
  "cells": [
    {
      "cell_type": "markdown",
      "metadata": {
        "id": "view-in-github",
        "colab_type": "text"
      },
      "source": [
        "<a href=\"https://colab.research.google.com/github/gkw314/oz_assignment/blob/main/S_Ch01_task.ipynb\" target=\"_parent\"><img src=\"https://colab.research.google.com/assets/colab-badge.svg\" alt=\"Open In Colab\"/></a>"
      ]
    },
    {
      "cell_type": "markdown",
      "metadata": {
        "id": "BNpzfqTReR8b"
      },
      "source": [
        "<span style=\"font-size:100%\">\n",
        "\n",
        "수업은 모두 열심히 들으셨나요?\n",
        "\n",
        "간혹 강의에서 언급되지 않은 내용이 문제로 나올 수 있습니다.<br>\n",
        "그럴땐 강의 내용 외 문제는 구글링을 통해 해결해주세요<br></span>\n",
        "<span style=\"font-size:80%\">\n",
        "(구글링 또한 개발자가 갖쳐야할 역량 중에 하나랍니다 😊)\n",
        "</span>\n",
        "\n",
        "---"
      ]
    },
    {
      "cell_type": "markdown",
      "metadata": {
        "id": "Ipf_onMkeR8d"
      },
      "source": [
        "<span style=\"font-size:80%\">[문제1]<br><br></span>\n",
        "```인터프리트 방식에 대해 설명하고 2개 이상의 장점을 설명해주세요```"
      ]
    },
    {
      "cell_type": "markdown",
      "metadata": {
        "id": "zEtomBPceR8d"
      },
      "source": [
        "<span style=\"color:red\">답변</span>"
      ]
    },
    {
      "cell_type": "markdown",
      "metadata": {
        "id": "iBbbwibFeR8d"
      },
      "source": [
        "##인터프리트 방식\n",
        "프로그램 코드를 한 줄씩 읽고 실행하는 방식의 프로그래밍 언어 처리 방법입니다.\n",
        "소스 코드를 미리 기계어로 변환하지 않고, 실행 시점에 한 줄씩 해석하고 실행합니다.\n",
        "\n",
        "##인터프리트 방식의 장점\n",
        "1.   인터프리트 방식은 코드를 작성한 후 바로 실행할 수 있으므로, 실행 결과를 빠르게 확인할 수 있습니다.\n",
        "오류를 바로 수정하거나 테스트할 수 있어 개발 시간이 단축됩니다.\n",
        "\n",
        "2.   인터프리트 방식은 실행 시 소스 코드를 해석하기 때문에 다양한 운영 체제에서 동일한 코드를 사용할 수 있습니다. 이로 인해 개발자가 플랫폼에 의존하지 않고 코드를 배포할 수 있어, 호환성을 높이는 데 유리합니다.\n",
        "\n",
        "\n",
        "\n"
      ]
    },
    {
      "cell_type": "markdown",
      "metadata": {
        "id": "q4hVejDoeR8d"
      },
      "source": [
        "---"
      ]
    },
    {
      "cell_type": "markdown",
      "metadata": {
        "id": "CQIS4r8ReR8d"
      },
      "source": [
        "<span style=\"font-size:80%\">[문제2]<br><br></span>\n",
        "```동적 타입 방식의 장점과 단점을 간략히 설명해주세요```"
      ]
    },
    {
      "cell_type": "markdown",
      "metadata": {
        "id": "P7lo3e4UeR8d"
      },
      "source": [
        "<span style=\"color:red\">답변</span>"
      ]
    },
    {
      "cell_type": "markdown",
      "metadata": {
        "id": "FwePG2BeeR8e"
      },
      "source": [
        "##장점\n",
        "\n",
        "코드 작성 시 타입에 제한이 없기 때문에 유연성이 높고 효율적입니다.\n",
        "\n",
        "##단점\n",
        "\n",
        "프로그램 실행 때 타입에 문제를 확인할 수 있기 때문에 코드가 길고 복잡할 경우 문제 해결이 쉽지 않습니다."
      ]
    },
    {
      "cell_type": "markdown",
      "metadata": {
        "id": "92lQE-0DeR8e"
      },
      "source": [
        "---"
      ]
    },
    {
      "cell_type": "markdown",
      "metadata": {
        "id": "a0GOYysSeR8e"
      },
      "source": [
        "<span style=\"font-size:80%\">[문제3]<br><br></span>\n",
        "```Python으로 정적타입 방식의 코드를 작성할 수 있는 방법을 구글링을 통해 검색 후 설명해주세요```"
      ]
    },
    {
      "cell_type": "markdown",
      "metadata": {
        "id": "o2yEi9SVeR8e"
      },
      "source": [
        "<span style=\"color:red\">답변</span>"
      ]
    },
    {
      "cell_type": "markdown",
      "metadata": {
        "id": "341HitXVeR8e"
      },
      "source": [
        "1. 타입 힌트(Type Hint) 사용\n",
        "타입 힌트를 사용하면 변수, 함수의 매개변수, 반환값에 타입을 명시할 수 있습니다. 이는 코드의 가독성을 높이고, 정적 타입 검사를 가능하게 합니다."
      ]
    },
    {
      "cell_type": "code",
      "source": [
        "from typing import List, Dict\n",
        "\n",
        "# 변수 타입 명시\n",
        "age: int = 25\n",
        "name: str = \"Alice\"\n",
        "\n",
        "# 함수의 매개변수와 반환값에 타입 지정\n",
        "def add_numbers(a: int, b: int) -> int:\n",
        "    return a + b\n",
        "\n",
        "# 리스트와 딕셔너리의 타입 지정\n",
        "numbers: List[int] = [1, 2, 3, 4]\n",
        "person: Dict[str, str] = {\"name\": \"Alice\", \"city\": \"Seoul\"}\n"
      ],
      "metadata": {
        "id": "hx6YGI8JnFU7"
      },
      "execution_count": 1,
      "outputs": []
    },
    {
      "cell_type": "markdown",
      "source": [
        "2. mypy와 같은 정적 타입 검사 도구 사용\n",
        "타입 힌트만으로는 런타임에는 영향을 미치지 않습니다. 그러나 **mypy**와 같은 정적 타입 검사기를 사용하면 코드 작성 시 타입 오류를 확인할 수 있습니다."
      ],
      "metadata": {
        "id": "zC1ni915nHnL"
      }
    },
    {
      "cell_type": "code",
      "source": [
        "# mypy 설치\n",
        "pip install mypy\n",
        "\n",
        "# mypy로 타입 검사 실행\n",
        "mypy your_script.py"
      ],
      "metadata": {
        "id": "dGsYIN14nW2x"
      },
      "execution_count": null,
      "outputs": []
    },
    {
      "cell_type": "markdown",
      "source": [
        "3. dataclasses를 활용한 정적 타입\n",
        "dataclasses는 타입 힌트와 함께 데이터 클래스를 정의할 때 유용합니다. 이를 사용하면 간결하고 타입 안정적인 클래스를 작성할 수 있습니다."
      ],
      "metadata": {
        "id": "epO1-aiFnf91"
      }
    },
    {
      "cell_type": "code",
      "source": [
        "from dataclasses import dataclass\n",
        "\n",
        "@dataclass\n",
        "class Person:\n",
        "    name: str\n",
        "    age: int\n",
        "\n",
        "person = Person(name=\"Alice\", age=30)\n"
      ],
      "metadata": {
        "id": "lfto5z7woQc4"
      },
      "execution_count": null,
      "outputs": []
    },
    {
      "cell_type": "markdown",
      "source": [
        "4. 고급 타입 힌트 활용\n",
        "Python의 typing 모듈에는 더 복잡한 타입을 표현하기 위한 기능이 포함되어 있습니다.\n",
        "\n",
        "*   Optional: 값이 None일 수 있음을 나타냄\n",
        "*   Union: 여러 타입 중 하나를 허용\n",
        "*   Callable: 함수의 입력 및 반환 타입 지정\n",
        "*   Generic: 제네릭 타입 정의"
      ],
      "metadata": {
        "id": "cx_M7L5xnipo"
      }
    },
    {
      "cell_type": "code",
      "source": [
        "from typing import Optional, Union, Callable, Generic, TypeVar\n",
        "\n",
        "# Optional 타입\n",
        "def greet(name: Optional[str]) -> str:\n",
        "    return f\"Hello, {name or 'Anonymous'}\"\n",
        "\n",
        "# Union 타입\n",
        "def process_value(value: Union[int, str]) -> str:\n",
        "    return str(value)\n",
        "\n",
        "# Callable 타입\n",
        "def apply_function(func: Callable[[int, int], int], x: int, y: int) -> int:\n",
        "    return func(x, y)\n",
        "\n",
        "# Generic 타입\n",
        "T = TypeVar('T')\n",
        "class Box(Generic[T]):\n",
        "    def __init__(self, content: T):\n",
        "        self.content = content\n"
      ],
      "metadata": {
        "id": "pamKvIGUoP2A"
      },
      "execution_count": null,
      "outputs": []
    },
    {
      "cell_type": "markdown",
      "metadata": {
        "id": "o0zvkFzseR8e"
      },
      "source": [
        "---"
      ]
    },
    {
      "cell_type": "markdown",
      "metadata": {
        "id": "Sll5AvMReR8e"
      },
      "source": [
        "<span style=\"font-size:80%\">[문제4]<br><br></span>\n",
        "```프로세스와 스레드의 차이점을 설명해주세요```"
      ]
    },
    {
      "cell_type": "markdown",
      "metadata": {
        "id": "Or3fj_OKeR8e"
      },
      "source": [
        "<span style=\"color:red\">답변</span>"
      ]
    },
    {
      "cell_type": "markdown",
      "metadata": {
        "id": "lAcGoSmceR8e"
      },
      "source": [
        "###프로세스:\n",
        "운영체제로부터 자원을 할당받은 작업의 단위.\n",
        "\n",
        "실행 중인 프로그램의 인스턴스를 의미합니다. 프로세스는 자체 메모리 공간을 가지고, 운영체제에서 독립적으로 실행됩니다.\n",
        "\n",
        "\n",
        "특징:\n",
        "\n",
        "*   독립적 메모리 공간: 각 프로세스는 고유한 메모리 영역(코드, 데이터, 스택, 힙)을 가집니다.\n",
        "*   자원 관리: 프로세스는 파일, 네트워크 연결 등 자원을 독립적으로 관리합니다.\n",
        "*   운영체제의 단위: 프로세스는 운영체제에서 작업을 실행하기 위한 기본 단위로 사용됩니다.\n",
        "*   상대적으로 무거움: 프로세스 간의 전환(context switch)에는 많은 자원과 시간이 필요합니다.\n",
        "\n",
        "\n",
        "\n",
        "\n",
        "\n",
        "###스레드:\n",
        "프로세스가 할당받은 자원을 이용하는 실행 흐름의 단위.\n",
        "\n",
        "프로세스 내부에서 실행되는 실행 단위입니다. 하나의 프로세스는 여러 스레드를 가질 수 있습니다.\n",
        "\n",
        "\n",
        "\n",
        "특징:\n",
        "\n",
        "*   공유 메모리: 스레드는 같은 프로세스의 메모리 공간(코드, 데이터, 힙)을 공유합니다.\n",
        "*   경량성: 스레드 간 전환은 비교적 가벼우며, 빠르게 수행됩니다.\n",
        "*   병렬 처리: 하나의 프로세스 내에서 여러 스레드가 병렬적으로 작업을 처리할 수 있습니다.\n",
        "*   동기화 필요: 메모리를 공유하기 때문에 동기화 문제가 발생할 수 있습니다.\n",
        "\n",
        "\n"
      ]
    },
    {
      "cell_type": "markdown",
      "metadata": {
        "id": "KB4pbZM3eR8e"
      },
      "source": [
        "---"
      ]
    },
    {
      "cell_type": "markdown",
      "metadata": {
        "id": "A6osA4x5eR8e"
      },
      "source": [
        "<span style=\"font-size:80%\">[문제5]<br><br></span>\n",
        "```Python 2버전대와 3버전대의 차이를 성명해주세요```"
      ]
    },
    {
      "cell_type": "markdown",
      "metadata": {
        "id": "jSrNIRCFeR8e"
      },
      "source": [
        "<span style=\"color:red\">답변</span>"
      ]
    },
    {
      "cell_type": "markdown",
      "metadata": {
        "id": "2PhdRhr6eR8e"
      },
      "source": [
        "#1. 문자열 처리\n",
        "Python 2: 기본 문자열 타입이 ASCII 기반입니다.\n",
        "유니코드 문자열을 처리하려면 u'string' 형태로 접두사를 사용해야 합니다.\n",
        "\n",
        "Python 3: 모든 문자열은 기본적으로 유니코드로 처리됩니다.\n",
        "\n",
        "\n",
        "#2. print 문법\n",
        "Python 2: print는 문법 구조로 사용됩니다. 괄호 없이 호출할 수 있습니다.\n",
        "\n",
        "Python 3: print는 함수로 변경되었으며, 괄호가 필수입니다.\n",
        "\n",
        "\n",
        "#3. 정수 나눗셈\n",
        "Python 2: 정수 나눗셈은 결과도 정수로 반환합니다.\n",
        "\n",
        "\n",
        "Python 3: 정수 나눗셈은 실수를 반환합니다. 정수 나눗셈이 필요하면 // 연산자를 사용해야 합니다.\n",
        "\n",
        "\n",
        "#4. xrange와 range\n",
        "Python 2: range는 리스트를 반환하며, 대규모 데이터 처리 시 메모리를 많이 사용합니다. 대신, xrange는 제너레이터로 동작하여 메모리를 절약합니다.\n",
        "\n",
        "Python 3: range는 Python 2의 xrange처럼 동작하며, 메모리를 절약합니다.\n",
        "\n",
        "\n",
        "#5. input 함수\n",
        "Python 2: input 함수는 입력 값을 코드로 실행합니다. 안전하지 않으므로 raw_input을 사용하는 것이 권장됩니다.\n",
        "\n",
        "Python 3: input 함수는 항상 문자열을 반환합니다.\n",
        "\n",
        "#6. 예외 처리\n",
        "Python 2: except 구문에서 괄호 없이 예외를 처리합니다.\n",
        "\n",
        "Python 3: except 구문에서 괄호를 사용해야 합니다.\n",
        "\n",
        "#7. 라이브러리 호환성\n",
        "Python 3에서는 여러 표준 라이브러리가 업데이트되었으며, 일부 Python 2 전용 라이브러리는 지원되지 않습니다.\n",
        "\n",
        "Python 2는 더 이상 유지보수가 되지 않으므로 최신 라이브러리는 Python 3에서만 사용할 수 있습니다.\n"
      ]
    },
    {
      "cell_type": "markdown",
      "metadata": {
        "id": "xPWeoIrHeR8e"
      },
      "source": [
        "---"
      ]
    },
    {
      "cell_type": "markdown",
      "metadata": {
        "id": "cIJKUg7deR8f"
      },
      "source": [
        "<span style=\"font-size:80%\">[문제6]<br><br></span>\n",
        "```Python에서 메모리 관리는 어떻게 이루어지는지 설명해주세요```"
      ]
    },
    {
      "cell_type": "markdown",
      "metadata": {
        "id": "g8Ft4WcOeR8f"
      },
      "source": [
        "<span style=\"color:red\">답변</span>"
      ]
    },
    {
      "cell_type": "markdown",
      "metadata": {
        "id": "gkOtmnKHeR8f"
      },
      "source": [
        "\n",
        "Python에서 메모리 관리는 자동으로 이루어지며, **가비지 컬렉션(Garbage Collection)**과 참조 카운팅(Reference Counting) 메커니즘을 통해 효과적으로 관리됩니다. Python의 메모리 관리는 개발자가 직접 메모리를 할당하거나 해제하지 않아도 되는 특징이 있으며, 이는 개발자의 편의성과 안전성을 높이는 데 기여합니다.\n",
        "\n",
        "\n",
        "1. 참조 카운팅(Reference Counting)\n",
        "* Python 객체는 참조 카운트(reference count)를 유지합니다.\n",
        "객체가 몇 개의 변수나 다른 객체에서 참조되고 있는지 추적합니다.\n",
        "참조 카운트가 0이 되면 해당 객체는 더 이상 사용되지 않는 것으로 간주되며, 메모리에서 해제됩니다.\n",
        "\n",
        "\n",
        "2. 가비지 컬렉션(Garbage Collection)\n",
        "* Python에는 **순환 참조(Circular Reference)**를 해결하기 위해 가비지 컬렉터가 포함되어 있습니다.\n",
        "* 순환 참조란, 두 객체가 서로를 참조함으로써 참조 카운트가 0이 되지 않는 경우를 말합니다.\n",
        "* Python의 가비지 컬렉터는 Generational Garbage Collection 알고리즘을 사용하여 메모리를 효율적으로 관리합니다.\n",
        "  * 객체를 \"세대(generation)\"로 나누어, 더. 오래된 객체는 덜 자주 검사하여 성능을 향상시킵니다.\n",
        "  * gc 모듈을 통해 가비지 컬렉터를 직접 제어하거나 상태를 확인할 수 있습니다.\n"
      ]
    }
  ],
  "metadata": {
    "language_info": {
      "name": "python"
    },
    "colab": {
      "provenance": [],
      "include_colab_link": true
    },
    "kernelspec": {
      "name": "python3",
      "display_name": "Python 3"
    }
  },
  "nbformat": 4,
  "nbformat_minor": 0
}